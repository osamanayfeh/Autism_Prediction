{
 "cells": [
  {
   "cell_type": "markdown",
   "id": "11d03f3d",
   "metadata": {
    "execution": {
     "iopub.execute_input": "2022-05-19T19:10:47.217236Z",
     "iopub.status.busy": "2022-05-19T19:10:47.216703Z",
     "iopub.status.idle": "2022-05-19T19:10:47.748942Z",
     "shell.execute_reply": "2022-05-19T19:10:47.748156Z",
     "shell.execute_reply.started": "2022-05-19T19:10:47.217096Z"
    },
    "papermill": {
     "duration": 0.044329,
     "end_time": "2024-12-25T14:17:48.500800",
     "exception": false,
     "start_time": "2024-12-25T14:17:48.456471",
     "status": "completed"
    },
    "tags": []
   },
   "source": [
    "## EDA AND TRAINING DATA PREPROCESSING"
   ]
  },
  {
   "cell_type": "code",
   "execution_count": 1,
   "id": "5d09a812",
   "metadata": {
    "execution": {
     "iopub.execute_input": "2024-12-25T14:17:48.587540Z",
     "iopub.status.busy": "2024-12-25T14:17:48.587174Z",
     "iopub.status.idle": "2024-12-25T14:17:49.637618Z",
     "shell.execute_reply": "2024-12-25T14:17:49.636840Z"
    },
    "papermill": {
     "duration": 1.095286,
     "end_time": "2024-12-25T14:17:49.639966",
     "exception": false,
     "start_time": "2024-12-25T14:17:48.544680",
     "status": "completed"
    },
    "tags": []
   },
   "outputs": [],
   "source": [
    "## Importing the necessary libraries\n",
    "import numpy as np\n",
    "import pandas as pd\n",
    "import matplotlib.pyplot as plt\n",
    "import seaborn as sns"
   ]
  },
  {
   "cell_type": "code",
   "execution_count": 2,
   "id": "94767e37",
   "metadata": {
    "execution": {
     "iopub.execute_input": "2024-12-25T14:17:49.725052Z",
     "iopub.status.busy": "2024-12-25T14:17:49.724364Z",
     "iopub.status.idle": "2024-12-25T14:17:49.750810Z",
     "shell.execute_reply": "2024-12-25T14:17:49.749872Z"
    },
    "papermill": {
     "duration": 0.071643,
     "end_time": "2024-12-25T14:17:49.753381",
     "exception": false,
     "start_time": "2024-12-25T14:17:49.681738",
     "status": "completed"
    },
    "tags": []
   },
   "outputs": [],
   "source": [
    "## Reading the data\n",
    "train = pd.read_csv('../input/AutismPrediction/train.csv')\n",
    "test = pd.read_csv('../input/AutismPrediction/test.csv')"
   ]
  },
  {
   "cell_type": "code",
   "execution_count": 3,
   "id": "dc0346d3",
   "metadata": {
    "execution": {
     "iopub.execute_input": "2024-12-25T14:17:49.840220Z",
     "iopub.status.busy": "2024-12-25T14:17:49.839885Z",
     "iopub.status.idle": "2024-12-25T14:17:49.868480Z",
     "shell.execute_reply": "2024-12-25T14:17:49.867598Z"
    },
    "papermill": {
     "duration": 0.075013,
     "end_time": "2024-12-25T14:17:49.871246",
     "exception": false,
     "start_time": "2024-12-25T14:17:49.796233",
     "status": "completed"
    },
    "tags": []
   },
   "outputs": [
    {
     "data": {
      "text/html": [
       "<div>\n",
       "<style scoped>\n",
       "    .dataframe tbody tr th:only-of-type {\n",
       "        vertical-align: middle;\n",
       "    }\n",
       "\n",
       "    .dataframe tbody tr th {\n",
       "        vertical-align: top;\n",
       "    }\n",
       "\n",
       "    .dataframe thead th {\n",
       "        text-align: right;\n",
       "    }\n",
       "</style>\n",
       "<table border=\"1\" class=\"dataframe\">\n",
       "  <thead>\n",
       "    <tr style=\"text-align: right;\">\n",
       "      <th></th>\n",
       "      <th>ID</th>\n",
       "      <th>A1_Score</th>\n",
       "      <th>A2_Score</th>\n",
       "      <th>A3_Score</th>\n",
       "      <th>A4_Score</th>\n",
       "      <th>A5_Score</th>\n",
       "      <th>A6_Score</th>\n",
       "      <th>A7_Score</th>\n",
       "      <th>A8_Score</th>\n",
       "      <th>A9_Score</th>\n",
       "      <th>...</th>\n",
       "      <th>gender</th>\n",
       "      <th>ethnicity</th>\n",
       "      <th>jaundice</th>\n",
       "      <th>austim</th>\n",
       "      <th>contry_of_res</th>\n",
       "      <th>used_app_before</th>\n",
       "      <th>result</th>\n",
       "      <th>age_desc</th>\n",
       "      <th>relation</th>\n",
       "      <th>Class/ASD</th>\n",
       "    </tr>\n",
       "  </thead>\n",
       "  <tbody>\n",
       "    <tr>\n",
       "      <th>0</th>\n",
       "      <td>1</td>\n",
       "      <td>1</td>\n",
       "      <td>0</td>\n",
       "      <td>1</td>\n",
       "      <td>0</td>\n",
       "      <td>1</td>\n",
       "      <td>0</td>\n",
       "      <td>1</td>\n",
       "      <td>0</td>\n",
       "      <td>1</td>\n",
       "      <td>...</td>\n",
       "      <td>f</td>\n",
       "      <td>?</td>\n",
       "      <td>no</td>\n",
       "      <td>no</td>\n",
       "      <td>Austria</td>\n",
       "      <td>no</td>\n",
       "      <td>6.351166</td>\n",
       "      <td>18 and more</td>\n",
       "      <td>Self</td>\n",
       "      <td>0</td>\n",
       "    </tr>\n",
       "    <tr>\n",
       "      <th>1</th>\n",
       "      <td>2</td>\n",
       "      <td>0</td>\n",
       "      <td>0</td>\n",
       "      <td>0</td>\n",
       "      <td>0</td>\n",
       "      <td>0</td>\n",
       "      <td>0</td>\n",
       "      <td>0</td>\n",
       "      <td>0</td>\n",
       "      <td>0</td>\n",
       "      <td>...</td>\n",
       "      <td>m</td>\n",
       "      <td>?</td>\n",
       "      <td>no</td>\n",
       "      <td>no</td>\n",
       "      <td>India</td>\n",
       "      <td>no</td>\n",
       "      <td>2.255185</td>\n",
       "      <td>18 and more</td>\n",
       "      <td>Self</td>\n",
       "      <td>0</td>\n",
       "    </tr>\n",
       "    <tr>\n",
       "      <th>2</th>\n",
       "      <td>3</td>\n",
       "      <td>1</td>\n",
       "      <td>1</td>\n",
       "      <td>1</td>\n",
       "      <td>1</td>\n",
       "      <td>1</td>\n",
       "      <td>1</td>\n",
       "      <td>1</td>\n",
       "      <td>1</td>\n",
       "      <td>1</td>\n",
       "      <td>...</td>\n",
       "      <td>m</td>\n",
       "      <td>White-European</td>\n",
       "      <td>no</td>\n",
       "      <td>yes</td>\n",
       "      <td>United States</td>\n",
       "      <td>no</td>\n",
       "      <td>14.851484</td>\n",
       "      <td>18 and more</td>\n",
       "      <td>Self</td>\n",
       "      <td>1</td>\n",
       "    </tr>\n",
       "    <tr>\n",
       "      <th>3</th>\n",
       "      <td>4</td>\n",
       "      <td>0</td>\n",
       "      <td>0</td>\n",
       "      <td>0</td>\n",
       "      <td>0</td>\n",
       "      <td>0</td>\n",
       "      <td>0</td>\n",
       "      <td>0</td>\n",
       "      <td>0</td>\n",
       "      <td>0</td>\n",
       "      <td>...</td>\n",
       "      <td>f</td>\n",
       "      <td>?</td>\n",
       "      <td>no</td>\n",
       "      <td>no</td>\n",
       "      <td>United States</td>\n",
       "      <td>no</td>\n",
       "      <td>2.276617</td>\n",
       "      <td>18 and more</td>\n",
       "      <td>Self</td>\n",
       "      <td>0</td>\n",
       "    </tr>\n",
       "    <tr>\n",
       "      <th>4</th>\n",
       "      <td>5</td>\n",
       "      <td>0</td>\n",
       "      <td>0</td>\n",
       "      <td>0</td>\n",
       "      <td>0</td>\n",
       "      <td>0</td>\n",
       "      <td>0</td>\n",
       "      <td>0</td>\n",
       "      <td>0</td>\n",
       "      <td>0</td>\n",
       "      <td>...</td>\n",
       "      <td>m</td>\n",
       "      <td>?</td>\n",
       "      <td>no</td>\n",
       "      <td>no</td>\n",
       "      <td>South Africa</td>\n",
       "      <td>no</td>\n",
       "      <td>-4.777286</td>\n",
       "      <td>18 and more</td>\n",
       "      <td>Self</td>\n",
       "      <td>0</td>\n",
       "    </tr>\n",
       "  </tbody>\n",
       "</table>\n",
       "<p>5 rows × 22 columns</p>\n",
       "</div>"
      ],
      "text/plain": [
       "   ID  A1_Score  A2_Score  A3_Score  A4_Score  A5_Score  A6_Score  A7_Score  \\\n",
       "0   1         1         0         1         0         1         0         1   \n",
       "1   2         0         0         0         0         0         0         0   \n",
       "2   3         1         1         1         1         1         1         1   \n",
       "3   4         0         0         0         0         0         0         0   \n",
       "4   5         0         0         0         0         0         0         0   \n",
       "\n",
       "   A8_Score  A9_Score  ...  gender       ethnicity jaundice austim  \\\n",
       "0         0         1  ...       f               ?       no     no   \n",
       "1         0         0  ...       m               ?       no     no   \n",
       "2         1         1  ...       m  White-European       no    yes   \n",
       "3         0         0  ...       f               ?       no     no   \n",
       "4         0         0  ...       m               ?       no     no   \n",
       "\n",
       "   contry_of_res used_app_before     result     age_desc  relation Class/ASD  \n",
       "0        Austria              no   6.351166  18 and more      Self         0  \n",
       "1          India              no   2.255185  18 and more      Self         0  \n",
       "2  United States              no  14.851484  18 and more      Self         1  \n",
       "3  United States              no   2.276617  18 and more      Self         0  \n",
       "4   South Africa              no  -4.777286  18 and more      Self         0  \n",
       "\n",
       "[5 rows x 22 columns]"
      ]
     },
     "execution_count": 3,
     "metadata": {},
     "output_type": "execute_result"
    }
   ],
   "source": [
    "## Checking the head of the data\n",
    "train.head()"
   ]
  },
  {
   "cell_type": "code",
   "execution_count": 4,
   "id": "06fcc01b",
   "metadata": {
    "execution": {
     "iopub.execute_input": "2024-12-25T14:17:49.957728Z",
     "iopub.status.busy": "2024-12-25T14:17:49.957464Z",
     "iopub.status.idle": "2024-12-25T14:17:49.963470Z",
     "shell.execute_reply": "2024-12-25T14:17:49.962619Z"
    },
    "papermill": {
     "duration": 0.051156,
     "end_time": "2024-12-25T14:17:49.965370",
     "exception": false,
     "start_time": "2024-12-25T14:17:49.914214",
     "status": "completed"
    },
    "tags": []
   },
   "outputs": [
    {
     "data": {
      "text/plain": [
       "Index(['ID', 'A1_Score', 'A2_Score', 'A3_Score', 'A4_Score', 'A5_Score',\n",
       "       'A6_Score', 'A7_Score', 'A8_Score', 'A9_Score', 'A10_Score', 'age',\n",
       "       'gender', 'ethnicity', 'jaundice', 'austim', 'contry_of_res',\n",
       "       'used_app_before', 'result', 'age_desc', 'relation', 'Class/ASD'],\n",
       "      dtype='object')"
      ]
     },
     "execution_count": 4,
     "metadata": {},
     "output_type": "execute_result"
    }
   ],
   "source": [
    "## Checking the column names in the dataframe\n",
    "train.columns"
   ]
  },
  {
   "cell_type": "code",
   "execution_count": 5,
   "id": "c9a88e3f",
   "metadata": {
    "execution": {
     "iopub.execute_input": "2024-12-25T14:17:50.060908Z",
     "iopub.status.busy": "2024-12-25T14:17:50.060496Z",
     "iopub.status.idle": "2024-12-25T14:17:50.070967Z",
     "shell.execute_reply": "2024-12-25T14:17:50.069889Z"
    },
    "papermill": {
     "duration": 0.064138,
     "end_time": "2024-12-25T14:17:50.073452",
     "exception": false,
     "start_time": "2024-12-25T14:17:50.009314",
     "status": "completed"
    },
    "tags": []
   },
   "outputs": [],
   "source": [
    "## Finding the numerical and categorical columns\n",
    "cat_cols = [feature for feature in train.columns if train[feature].dtypes == 'O']\n",
    "num_cols = [feature for feature in train.columns if feature not in cat_cols]"
   ]
  },
  {
   "cell_type": "code",
   "execution_count": 6,
   "id": "8c6790cf",
   "metadata": {
    "execution": {
     "iopub.execute_input": "2024-12-25T14:17:50.187918Z",
     "iopub.status.busy": "2024-12-25T14:17:50.187633Z",
     "iopub.status.idle": "2024-12-25T14:17:50.193093Z",
     "shell.execute_reply": "2024-12-25T14:17:50.192170Z"
    },
    "papermill": {
     "duration": 0.064857,
     "end_time": "2024-12-25T14:17:50.195342",
     "exception": false,
     "start_time": "2024-12-25T14:17:50.130485",
     "status": "completed"
    },
    "tags": []
   },
   "outputs": [
    {
     "name": "stdout",
     "output_type": "stream",
     "text": [
      "Numerical columns: ['ID', 'A1_Score', 'A2_Score', 'A3_Score', 'A4_Score', 'A5_Score', 'A6_Score', 'A7_Score', 'A8_Score', 'A9_Score', 'A10_Score', 'age', 'result', 'Class/ASD']\n",
      "\n",
      "Categorical columns: ['gender', 'ethnicity', 'jaundice', 'austim', 'contry_of_res', 'used_app_before', 'age_desc', 'relation']\n"
     ]
    }
   ],
   "source": [
    "## Printing the numerical and categorical columns\n",
    "print(f\"Numerical columns: {num_cols}\\n\")\n",
    "print(f\"Categorical columns: {cat_cols}\")"
   ]
  },
  {
   "cell_type": "code",
   "execution_count": 7,
   "id": "614ff1e7",
   "metadata": {
    "execution": {
     "iopub.execute_input": "2024-12-25T14:17:50.302416Z",
     "iopub.status.busy": "2024-12-25T14:17:50.302047Z",
     "iopub.status.idle": "2024-12-25T14:17:50.321174Z",
     "shell.execute_reply": "2024-12-25T14:17:50.320076Z"
    },
    "papermill": {
     "duration": 0.082651,
     "end_time": "2024-12-25T14:17:50.323261",
     "exception": false,
     "start_time": "2024-12-25T14:17:50.240610",
     "status": "completed"
    },
    "tags": []
   },
   "outputs": [
    {
     "name": "stdout",
     "output_type": "stream",
     "text": [
      "gender:\n",
      "Number of unique values in the gender: 2\n",
      "Unique values: ['f' 'm']\n",
      "\n",
      "\n",
      "ethnicity:\n",
      "Number of unique values in the ethnicity: 12\n",
      "Unique values: ['?' 'White-European' 'Middle Eastern ' 'Pasifika' 'Black' 'Others'\n",
      " 'Hispanic' 'Asian' 'Turkish' 'South Asian' 'Latino' 'others']\n",
      "\n",
      "\n",
      "jaundice:\n",
      "Number of unique values in the jaundice: 2\n",
      "Unique values: ['no' 'yes']\n",
      "\n",
      "\n",
      "austim:\n",
      "Number of unique values in the austim: 2\n",
      "Unique values: ['no' 'yes']\n",
      "\n",
      "\n",
      "contry_of_res:\n",
      "Number of unique values in the contry_of_res: 56\n",
      "Unique values: ['Austria' 'India' 'United States' 'South Africa' 'Jordan'\n",
      " 'United Kingdom' 'Brazil' 'New Zealand' 'Canada' 'Kazakhstan'\n",
      " 'United Arab Emirates' 'Australia' 'Ukraine' 'Iraq' 'France' 'Malaysia'\n",
      " 'Viet Nam' 'Egypt' 'Netherlands' 'Afghanistan' 'Oman' 'Italy'\n",
      " 'AmericanSamoa' 'Bahamas' 'Saudi Arabia' 'Ireland' 'Aruba' 'Sri Lanka'\n",
      " 'Russia' 'Bolivia' 'Azerbaijan' 'Armenia' 'Serbia' 'Ethiopia' 'Sweden'\n",
      " 'Iceland' 'Hong Kong' 'Angola' 'China' 'Germany' 'Spain' 'Tonga'\n",
      " 'Pakistan' 'Iran' 'Argentina' 'Japan' 'Mexico' 'Nicaragua' 'Sierra Leone'\n",
      " 'Czech Republic' 'Niger' 'Romania' 'Cyprus' 'Belgium' 'Burundi'\n",
      " 'Bangladesh']\n",
      "\n",
      "\n",
      "used_app_before:\n",
      "Number of unique values in the used_app_before: 2\n",
      "Unique values: ['no' 'yes']\n",
      "\n",
      "\n",
      "age_desc:\n",
      "Number of unique values in the age_desc: 1\n",
      "Unique values: ['18 and more']\n",
      "\n",
      "\n",
      "relation:\n",
      "Number of unique values in the relation: 6\n",
      "Unique values: ['Self' 'Relative' 'Parent' '?' 'Others' 'Health care professional']\n",
      "\n",
      "\n"
     ]
    }
   ],
   "source": [
    "## Finding the unique values in each of the categorical feature columns\n",
    "for feature in cat_cols:\n",
    "    print(f\"{feature}:\")\n",
    "    print(f\"Number of unique values in the {feature}: {train[feature].nunique()}\")\n",
    "    print(f\"Unique values: {train[feature].unique()}\")\n",
    "    print('\\n')"
   ]
  },
  {
   "cell_type": "code",
   "execution_count": 8,
   "id": "a43e3602",
   "metadata": {
    "execution": {
     "iopub.execute_input": "2024-12-25T14:17:50.415131Z",
     "iopub.status.busy": "2024-12-25T14:17:50.414714Z",
     "iopub.status.idle": "2024-12-25T14:17:50.421897Z",
     "shell.execute_reply": "2024-12-25T14:17:50.420892Z"
    },
    "papermill": {
     "duration": 0.055602,
     "end_time": "2024-12-25T14:17:50.424079",
     "exception": false,
     "start_time": "2024-12-25T14:17:50.368477",
     "status": "completed"
    },
    "tags": []
   },
   "outputs": [],
   "source": [
    "## Removing unnecessary columns\n",
    "## Removing ID column since it doesn't provide any logical relation to the occurance of the disease\n",
    "## Removing the age_desc column since it has only one value. In other words, the column has zero variance\n",
    "train.drop(columns=['ID','age_desc'],axis=1,inplace=True)"
   ]
  },
  {
   "cell_type": "code",
   "execution_count": 9,
   "id": "92f2f6e4",
   "metadata": {
    "execution": {
     "iopub.execute_input": "2024-12-25T14:17:50.526718Z",
     "iopub.status.busy": "2024-12-25T14:17:50.526411Z",
     "iopub.status.idle": "2024-12-25T14:17:50.533413Z",
     "shell.execute_reply": "2024-12-25T14:17:50.532224Z"
    },
    "papermill": {
     "duration": 0.056715,
     "end_time": "2024-12-25T14:17:50.536347",
     "exception": false,
     "start_time": "2024-12-25T14:17:50.479632",
     "status": "completed"
    },
    "tags": []
   },
   "outputs": [
    {
     "data": {
      "text/plain": [
       "Index(['A1_Score', 'A2_Score', 'A3_Score', 'A4_Score', 'A5_Score', 'A6_Score',\n",
       "       'A7_Score', 'A8_Score', 'A9_Score', 'A10_Score', 'age', 'gender',\n",
       "       'ethnicity', 'jaundice', 'austim', 'contry_of_res', 'used_app_before',\n",
       "       'result', 'relation', 'Class/ASD'],\n",
       "      dtype='object')"
      ]
     },
     "execution_count": 9,
     "metadata": {},
     "output_type": "execute_result"
    }
   ],
   "source": [
    "## Checking the successful dropping of ID and age_desc columns\n",
    "train.columns"
   ]
  },
  {
   "cell_type": "code",
   "execution_count": 10,
   "id": "f997727a",
   "metadata": {
    "execution": {
     "iopub.execute_input": "2024-12-25T14:17:50.632694Z",
     "iopub.status.busy": "2024-12-25T14:17:50.631964Z",
     "iopub.status.idle": "2024-12-25T14:17:50.640181Z",
     "shell.execute_reply": "2024-12-25T14:17:50.639313Z"
    },
    "papermill": {
     "duration": 0.055978,
     "end_time": "2024-12-25T14:17:50.642206",
     "exception": false,
     "start_time": "2024-12-25T14:17:50.586228",
     "status": "completed"
    },
    "tags": []
   },
   "outputs": [],
   "source": [
    "## Some of the columns have ? symbol instead of the record\n",
    "## Here we will just add such records into the Others category\n",
    "## Columns -- ethnicity, relation\n",
    "train['ethnicity'] = np.where(train['ethnicity'] == '?', 'Others',train['ethnicity'])\n",
    "train['relation'] = np.where(train['relation'] == '?', 'Others', train['relation'])"
   ]
  },
  {
   "cell_type": "code",
   "execution_count": 11,
   "id": "6e03613d",
   "metadata": {
    "execution": {
     "iopub.execute_input": "2024-12-25T14:17:50.732877Z",
     "iopub.status.busy": "2024-12-25T14:17:50.731966Z",
     "iopub.status.idle": "2024-12-25T14:17:50.741690Z",
     "shell.execute_reply": "2024-12-25T14:17:50.740743Z"
    },
    "papermill": {
     "duration": 0.057388,
     "end_time": "2024-12-25T14:17:50.743586",
     "exception": false,
     "start_time": "2024-12-25T14:17:50.686198",
     "status": "completed"
    },
    "tags": []
   },
   "outputs": [
    {
     "name": "stdout",
     "output_type": "stream",
     "text": [
      "ethnicity:\n",
      "Number of unique values in the ethnicity: 11\n",
      "Unique values: ['Others' 'White-European' 'Middle Eastern ' 'Pasifika' 'Black' 'Hispanic'\n",
      " 'Asian' 'Turkish' 'South Asian' 'Latino' 'others']\n",
      "\n",
      "\n",
      "relation:\n",
      "Number of unique values in the relation: 5\n",
      "Unique values: ['Self' 'Relative' 'Parent' 'Others' 'Health care professional']\n",
      "\n",
      "\n"
     ]
    }
   ],
   "source": [
    "## Checking for successful replacement of records with ?\n",
    "for feature in ['ethnicity','relation']:\n",
    "    print(f\"{feature}:\")\n",
    "    print(f\"Number of unique values in the {feature}: {train[feature].nunique()}\")\n",
    "    print(f\"Unique values: {train[feature].unique()}\")\n",
    "    print('\\n')"
   ]
  },
  {
   "cell_type": "code",
   "execution_count": 12,
   "id": "661f7031",
   "metadata": {
    "execution": {
     "iopub.execute_input": "2024-12-25T14:17:50.834919Z",
     "iopub.status.busy": "2024-12-25T14:17:50.834613Z",
     "iopub.status.idle": "2024-12-25T14:17:50.839769Z",
     "shell.execute_reply": "2024-12-25T14:17:50.838963Z"
    },
    "papermill": {
     "duration": 0.053977,
     "end_time": "2024-12-25T14:17:50.841714",
     "exception": false,
     "start_time": "2024-12-25T14:17:50.787737",
     "status": "completed"
    },
    "tags": []
   },
   "outputs": [],
   "source": [
    "## In the feature column ethnicity, there are two types of other columns : 1. Others 2. others\n",
    "## Let's just merge those records into one category named Others\n",
    "train['ethnicity']= np.where(train['ethnicity'] == 'others', 'Others', train['ethnicity'])"
   ]
  },
  {
   "cell_type": "code",
   "execution_count": 13,
   "id": "70d5067f",
   "metadata": {
    "execution": {
     "iopub.execute_input": "2024-12-25T14:17:50.932653Z",
     "iopub.status.busy": "2024-12-25T14:17:50.932308Z",
     "iopub.status.idle": "2024-12-25T14:17:50.939523Z",
     "shell.execute_reply": "2024-12-25T14:17:50.938571Z"
    },
    "papermill": {
     "duration": 0.055842,
     "end_time": "2024-12-25T14:17:50.942029",
     "exception": false,
     "start_time": "2024-12-25T14:17:50.886187",
     "status": "completed"
    },
    "tags": []
   },
   "outputs": [
    {
     "name": "stdout",
     "output_type": "stream",
     "text": [
      "ethnicity:\n",
      "Number of unique values in the ethnicity: 10\n",
      "Unique values: ['Others' 'White-European' 'Middle Eastern ' 'Pasifika' 'Black' 'Hispanic'\n",
      " 'Asian' 'Turkish' 'South Asian' 'Latino']\n",
      "\n",
      "\n"
     ]
    }
   ],
   "source": [
    "for feature in ['ethnicity']:\n",
    "    print(f\"{feature}:\")\n",
    "    print(f\"Number of unique values in the {feature}: {train[feature].nunique()}\")\n",
    "    print(f\"Unique values: {train[feature].unique()}\")\n",
    "    print('\\n')"
   ]
  },
  {
   "cell_type": "code",
   "execution_count": 14,
   "id": "081a927e",
   "metadata": {
    "execution": {
     "iopub.execute_input": "2024-12-25T14:17:51.037327Z",
     "iopub.status.busy": "2024-12-25T14:17:51.036488Z",
     "iopub.status.idle": "2024-12-25T14:17:51.041825Z",
     "shell.execute_reply": "2024-12-25T14:17:51.040998Z"
    },
    "papermill": {
     "duration": 0.05532,
     "end_time": "2024-12-25T14:17:51.044386",
     "exception": false,
     "start_time": "2024-12-25T14:17:50.989066",
     "status": "completed"
    },
    "tags": []
   },
   "outputs": [],
   "source": [
    "num_cols.remove('ID')\n",
    "cat_cols.remove('age_desc')"
   ]
  },
  {
   "cell_type": "code",
   "execution_count": 15,
   "id": "58b17b32",
   "metadata": {
    "execution": {
     "iopub.execute_input": "2024-12-25T14:17:51.145819Z",
     "iopub.status.busy": "2024-12-25T14:17:51.145522Z",
     "iopub.status.idle": "2024-12-25T14:17:51.160422Z",
     "shell.execute_reply": "2024-12-25T14:17:51.158718Z"
    },
    "papermill": {
     "duration": 0.066358,
     "end_time": "2024-12-25T14:17:51.162706",
     "exception": false,
     "start_time": "2024-12-25T14:17:51.096348",
     "status": "completed"
    },
    "tags": []
   },
   "outputs": [
    {
     "name": "stdout",
     "output_type": "stream",
     "text": [
      "gender:\n",
      "Number of unique values in the gender: 2\n",
      "Unique values: ['f' 'm']\n",
      "\n",
      "\n",
      "ethnicity:\n",
      "Number of unique values in the ethnicity: 10\n",
      "Unique values: ['Others' 'White-European' 'Middle Eastern ' 'Pasifika' 'Black' 'Hispanic'\n",
      " 'Asian' 'Turkish' 'South Asian' 'Latino']\n",
      "\n",
      "\n",
      "jaundice:\n",
      "Number of unique values in the jaundice: 2\n",
      "Unique values: ['no' 'yes']\n",
      "\n",
      "\n",
      "austim:\n",
      "Number of unique values in the austim: 2\n",
      "Unique values: ['no' 'yes']\n",
      "\n",
      "\n",
      "contry_of_res:\n",
      "Number of unique values in the contry_of_res: 56\n",
      "Unique values: ['Austria' 'India' 'United States' 'South Africa' 'Jordan'\n",
      " 'United Kingdom' 'Brazil' 'New Zealand' 'Canada' 'Kazakhstan'\n",
      " 'United Arab Emirates' 'Australia' 'Ukraine' 'Iraq' 'France' 'Malaysia'\n",
      " 'Viet Nam' 'Egypt' 'Netherlands' 'Afghanistan' 'Oman' 'Italy'\n",
      " 'AmericanSamoa' 'Bahamas' 'Saudi Arabia' 'Ireland' 'Aruba' 'Sri Lanka'\n",
      " 'Russia' 'Bolivia' 'Azerbaijan' 'Armenia' 'Serbia' 'Ethiopia' 'Sweden'\n",
      " 'Iceland' 'Hong Kong' 'Angola' 'China' 'Germany' 'Spain' 'Tonga'\n",
      " 'Pakistan' 'Iran' 'Argentina' 'Japan' 'Mexico' 'Nicaragua' 'Sierra Leone'\n",
      " 'Czech Republic' 'Niger' 'Romania' 'Cyprus' 'Belgium' 'Burundi'\n",
      " 'Bangladesh']\n",
      "\n",
      "\n",
      "used_app_before:\n",
      "Number of unique values in the used_app_before: 2\n",
      "Unique values: ['no' 'yes']\n",
      "\n",
      "\n",
      "relation:\n",
      "Number of unique values in the relation: 5\n",
      "Unique values: ['Self' 'Relative' 'Parent' 'Others' 'Health care professional']\n",
      "\n",
      "\n"
     ]
    }
   ],
   "source": [
    "for feature in cat_cols:\n",
    "    print(f\"{feature}:\")\n",
    "    print(f\"Number of unique values in the {feature}: {train[feature].nunique()}\")\n",
    "    print(f\"Unique values: {train[feature].unique()}\")\n",
    "    print('\\n')"
   ]
  },
  {
   "cell_type": "code",
   "execution_count": 16,
   "id": "0776cb89",
   "metadata": {
    "execution": {
     "iopub.execute_input": "2024-12-25T14:17:51.258539Z",
     "iopub.status.busy": "2024-12-25T14:17:51.257730Z",
     "iopub.status.idle": "2024-12-25T14:17:51.268504Z",
     "shell.execute_reply": "2024-12-25T14:17:51.267688Z"
    },
    "papermill": {
     "duration": 0.06123,
     "end_time": "2024-12-25T14:17:51.270975",
     "exception": false,
     "start_time": "2024-12-25T14:17:51.209745",
     "status": "completed"
    },
    "tags": []
   },
   "outputs": [
    {
     "data": {
      "text/plain": [
       "A1_Score           0\n",
       "A2_Score           0\n",
       "A3_Score           0\n",
       "A4_Score           0\n",
       "A5_Score           0\n",
       "A6_Score           0\n",
       "A7_Score           0\n",
       "A8_Score           0\n",
       "A9_Score           0\n",
       "A10_Score          0\n",
       "age                0\n",
       "gender             0\n",
       "ethnicity          0\n",
       "jaundice           0\n",
       "austim             0\n",
       "contry_of_res      0\n",
       "used_app_before    0\n",
       "result             0\n",
       "relation           0\n",
       "Class/ASD          0\n",
       "dtype: int64"
      ]
     },
     "execution_count": 16,
     "metadata": {},
     "output_type": "execute_result"
    }
   ],
   "source": [
    "## Checking for missing values in the dataset\n",
    "train.isnull().sum()"
   ]
  },
  {
   "cell_type": "markdown",
   "id": "91cd6f86",
   "metadata": {
    "papermill": {
     "duration": 0.044961,
     "end_time": "2024-12-25T14:17:51.370120",
     "exception": false,
     "start_time": "2024-12-25T14:17:51.325159",
     "status": "completed"
    },
    "tags": []
   },
   "source": [
    "**It seems there are no missing values in the dataset**"
   ]
  },
  {
   "cell_type": "code",
   "execution_count": 17,
   "id": "fe80d1dc",
   "metadata": {
    "execution": {
     "iopub.execute_input": "2024-12-25T14:17:51.465274Z",
     "iopub.status.busy": "2024-12-25T14:17:51.464951Z",
     "iopub.status.idle": "2024-12-25T14:17:51.473444Z",
     "shell.execute_reply": "2024-12-25T14:17:51.472680Z"
    },
    "papermill": {
     "duration": 0.060792,
     "end_time": "2024-12-25T14:17:51.475843",
     "exception": false,
     "start_time": "2024-12-25T14:17:51.415051",
     "status": "completed"
    },
    "tags": []
   },
   "outputs": [
    {
     "data": {
      "text/plain": [
       "0    639\n",
       "1    161\n",
       "Name: Class/ASD, dtype: int64"
      ]
     },
     "execution_count": 17,
     "metadata": {},
     "output_type": "execute_result"
    }
   ],
   "source": [
    "## Checking whether the data is unbalanced or not\n",
    "train['Class/ASD'].value_counts()"
   ]
  },
  {
   "cell_type": "code",
   "execution_count": 18,
   "id": "c726cdf2",
   "metadata": {
    "execution": {
     "iopub.execute_input": "2024-12-25T14:17:51.573534Z",
     "iopub.status.busy": "2024-12-25T14:17:51.573278Z",
     "iopub.status.idle": "2024-12-25T14:17:51.579394Z",
     "shell.execute_reply": "2024-12-25T14:17:51.578515Z"
    },
    "papermill": {
     "duration": 0.058805,
     "end_time": "2024-12-25T14:17:51.581419",
     "exception": false,
     "start_time": "2024-12-25T14:17:51.522614",
     "status": "completed"
    },
    "tags": []
   },
   "outputs": [
    {
     "data": {
      "text/plain": [
       "0.79875"
      ]
     },
     "execution_count": 18,
     "metadata": {},
     "output_type": "execute_result"
    }
   ],
   "source": [
    "639/(161+639)"
   ]
  },
  {
   "cell_type": "markdown",
   "id": "6dcac7a7",
   "metadata": {
    "papermill": {
     "duration": 0.044981,
     "end_time": "2024-12-25T14:17:51.672468",
     "exception": false,
     "start_time": "2024-12-25T14:17:51.627487",
     "status": "completed"
    },
    "tags": []
   },
   "source": [
    "This means that almost 80% of the target values are of single category."
   ]
  },
  {
   "cell_type": "markdown",
   "id": "ecbeeb22",
   "metadata": {
    "papermill": {
     "duration": 0.045421,
     "end_time": "2024-12-25T14:17:51.763603",
     "exception": false,
     "start_time": "2024-12-25T14:17:51.718182",
     "status": "completed"
    },
    "tags": []
   },
   "source": [
    "**The dataset seems to be unbalanced**"
   ]
  },
  {
   "cell_type": "code",
   "execution_count": 19,
   "id": "e9e34144",
   "metadata": {
    "execution": {
     "iopub.execute_input": "2024-12-25T14:17:51.857568Z",
     "iopub.status.busy": "2024-12-25T14:17:51.856961Z",
     "iopub.status.idle": "2024-12-25T14:17:51.862470Z",
     "shell.execute_reply": "2024-12-25T14:17:51.861689Z"
    },
    "papermill": {
     "duration": 0.054003,
     "end_time": "2024-12-25T14:17:51.864322",
     "exception": false,
     "start_time": "2024-12-25T14:17:51.810319",
     "status": "completed"
    },
    "tags": []
   },
   "outputs": [
    {
     "data": {
      "text/plain": [
       "['gender',\n",
       " 'ethnicity',\n",
       " 'jaundice',\n",
       " 'austim',\n",
       " 'contry_of_res',\n",
       " 'used_app_before',\n",
       " 'relation']"
      ]
     },
     "execution_count": 19,
     "metadata": {},
     "output_type": "execute_result"
    }
   ],
   "source": [
    "cat_cols"
   ]
  },
  {
   "cell_type": "code",
   "execution_count": 20,
   "id": "8d908398",
   "metadata": {
    "execution": {
     "iopub.execute_input": "2024-12-25T14:17:51.959610Z",
     "iopub.status.busy": "2024-12-25T14:17:51.959337Z",
     "iopub.status.idle": "2024-12-25T14:17:52.111805Z",
     "shell.execute_reply": "2024-12-25T14:17:52.110766Z"
    },
    "papermill": {
     "duration": 0.203927,
     "end_time": "2024-12-25T14:17:52.114174",
     "exception": false,
     "start_time": "2024-12-25T14:17:51.910247",
     "status": "completed"
    },
    "tags": []
   },
   "outputs": [],
   "source": [
    "## Since we already have over 15 independent feature, we will use ordinal encoding instead of the one-hot encoding on the\n",
    "## categorical features\n",
    "from sklearn.preprocessing import OrdinalEncoder\n",
    "oe = OrdinalEncoder(handle_unknown='use_encoded_value', unknown_value=60, dtype=np.int64)\n",
    "\n",
    "train[cat_cols] = oe.fit_transform(train[cat_cols])"
   ]
  },
  {
   "cell_type": "code",
   "execution_count": 21,
   "id": "ccd5d9f2",
   "metadata": {
    "execution": {
     "iopub.execute_input": "2024-12-25T14:17:52.207966Z",
     "iopub.status.busy": "2024-12-25T14:17:52.207656Z",
     "iopub.status.idle": "2024-12-25T14:17:52.219047Z",
     "shell.execute_reply": "2024-12-25T14:17:52.218280Z"
    },
    "papermill": {
     "duration": 0.060577,
     "end_time": "2024-12-25T14:17:52.221018",
     "exception": false,
     "start_time": "2024-12-25T14:17:52.160441",
     "status": "completed"
    },
    "tags": []
   },
   "outputs": [
    {
     "data": {
      "text/html": [
       "<div>\n",
       "<style scoped>\n",
       "    .dataframe tbody tr th:only-of-type {\n",
       "        vertical-align: middle;\n",
       "    }\n",
       "\n",
       "    .dataframe tbody tr th {\n",
       "        vertical-align: top;\n",
       "    }\n",
       "\n",
       "    .dataframe thead th {\n",
       "        text-align: right;\n",
       "    }\n",
       "</style>\n",
       "<table border=\"1\" class=\"dataframe\">\n",
       "  <thead>\n",
       "    <tr style=\"text-align: right;\">\n",
       "      <th></th>\n",
       "      <th>gender</th>\n",
       "      <th>ethnicity</th>\n",
       "      <th>jaundice</th>\n",
       "      <th>austim</th>\n",
       "      <th>contry_of_res</th>\n",
       "      <th>used_app_before</th>\n",
       "      <th>relation</th>\n",
       "    </tr>\n",
       "  </thead>\n",
       "  <tbody>\n",
       "    <tr>\n",
       "      <th>0</th>\n",
       "      <td>0</td>\n",
       "      <td>5</td>\n",
       "      <td>0</td>\n",
       "      <td>0</td>\n",
       "      <td>7</td>\n",
       "      <td>0</td>\n",
       "      <td>4</td>\n",
       "    </tr>\n",
       "    <tr>\n",
       "      <th>1</th>\n",
       "      <td>1</td>\n",
       "      <td>5</td>\n",
       "      <td>0</td>\n",
       "      <td>0</td>\n",
       "      <td>25</td>\n",
       "      <td>0</td>\n",
       "      <td>4</td>\n",
       "    </tr>\n",
       "    <tr>\n",
       "      <th>2</th>\n",
       "      <td>1</td>\n",
       "      <td>9</td>\n",
       "      <td>0</td>\n",
       "      <td>1</td>\n",
       "      <td>54</td>\n",
       "      <td>0</td>\n",
       "      <td>4</td>\n",
       "    </tr>\n",
       "    <tr>\n",
       "      <th>3</th>\n",
       "      <td>0</td>\n",
       "      <td>5</td>\n",
       "      <td>0</td>\n",
       "      <td>0</td>\n",
       "      <td>54</td>\n",
       "      <td>0</td>\n",
       "      <td>4</td>\n",
       "    </tr>\n",
       "    <tr>\n",
       "      <th>4</th>\n",
       "      <td>1</td>\n",
       "      <td>5</td>\n",
       "      <td>0</td>\n",
       "      <td>0</td>\n",
       "      <td>46</td>\n",
       "      <td>0</td>\n",
       "      <td>4</td>\n",
       "    </tr>\n",
       "  </tbody>\n",
       "</table>\n",
       "</div>"
      ],
      "text/plain": [
       "   gender  ethnicity  jaundice  austim  contry_of_res  used_app_before  \\\n",
       "0       0          5         0       0              7                0   \n",
       "1       1          5         0       0             25                0   \n",
       "2       1          9         0       1             54                0   \n",
       "3       0          5         0       0             54                0   \n",
       "4       1          5         0       0             46                0   \n",
       "\n",
       "   relation  \n",
       "0         4  \n",
       "1         4  \n",
       "2         4  \n",
       "3         4  \n",
       "4         4  "
      ]
     },
     "execution_count": 21,
     "metadata": {},
     "output_type": "execute_result"
    }
   ],
   "source": [
    "train[cat_cols].head()"
   ]
  },
  {
   "cell_type": "code",
   "execution_count": 22,
   "id": "001f8c7a",
   "metadata": {
    "execution": {
     "iopub.execute_input": "2024-12-25T14:17:52.316185Z",
     "iopub.status.busy": "2024-12-25T14:17:52.315866Z",
     "iopub.status.idle": "2024-12-25T14:17:52.325559Z",
     "shell.execute_reply": "2024-12-25T14:17:52.324740Z"
    },
    "papermill": {
     "duration": 0.059194,
     "end_time": "2024-12-25T14:17:52.327543",
     "exception": false,
     "start_time": "2024-12-25T14:17:52.268349",
     "status": "completed"
    },
    "tags": []
   },
   "outputs": [
    {
     "name": "stdout",
     "output_type": "stream",
     "text": [
      "Unique values in gender:\n",
      "[0 1]\n",
      "\n",
      "Unique values in ethnicity:\n",
      "[5 9 4 6 1 2 0 8 7 3]\n",
      "\n",
      "Unique values in jaundice:\n",
      "[0 1]\n",
      "\n",
      "Unique values in austim:\n",
      "[0 1]\n",
      "\n",
      "Unique values in contry_of_res:\n",
      "[ 7 25 54 46 31 53 13 36 15 32 52  6 51 27 21 33 55 19 35  0 39 29  1  9\n",
      " 43 28  5 48 42 12  8  4 44 20 49 24 23  2 16 22 47 50 40 26  3 30 34 37\n",
      " 45 18 38 41 17 11 14 10]\n",
      "\n",
      "Unique values in used_app_before:\n",
      "[0 1]\n",
      "\n",
      "Unique values in relation:\n",
      "[4 3 2 1 0]\n",
      "\n"
     ]
    }
   ],
   "source": [
    "for feature in cat_cols:\n",
    "    print(f\"Unique values in {feature}:\")\n",
    "    print(f\"{train[feature].unique()}\\n\")"
   ]
  },
  {
   "cell_type": "code",
   "execution_count": 23,
   "id": "ea18e42a",
   "metadata": {
    "execution": {
     "iopub.execute_input": "2024-12-25T14:17:52.424262Z",
     "iopub.status.busy": "2024-12-25T14:17:52.423624Z",
     "iopub.status.idle": "2024-12-25T14:17:52.785256Z",
     "shell.execute_reply": "2024-12-25T14:17:52.784167Z"
    },
    "papermill": {
     "duration": 0.413331,
     "end_time": "2024-12-25T14:17:52.787854",
     "exception": false,
     "start_time": "2024-12-25T14:17:52.374523",
     "status": "completed"
    },
    "tags": []
   },
   "outputs": [
    {
     "data": {
      "text/plain": [
       "<AxesSubplot:>"
      ]
     },
     "execution_count": 23,
     "metadata": {},
     "output_type": "execute_result"
    },
    {
     "data": {
      "image/png": "[encoded data removed]",
      "text/plain": [
       "<Figure size 864x504 with 1 Axes>"
      ]
     },
     "metadata": {
      "needs_background": "light"
     },
     "output_type": "display_data"
    }
   ],
   "source": [
    "## Checking for outliers in the numerical features\n",
    "train[num_cols].plot(kind='box', figsize=(12,7))"
   ]
  },
  {
   "cell_type": "code",
   "execution_count": 24,
   "id": "2ad0b507",
   "metadata": {
    "execution": {
     "iopub.execute_input": "2024-12-25T14:17:52.887318Z",
     "iopub.status.busy": "2024-12-25T14:17:52.887060Z",
     "iopub.status.idle": "2024-12-25T14:17:53.100401Z",
     "shell.execute_reply": "2024-12-25T14:17:53.099549Z"
    },
    "papermill": {
     "duration": 0.266214,
     "end_time": "2024-12-25T14:17:53.102369",
     "exception": false,
     "start_time": "2024-12-25T14:17:52.836155",
     "status": "completed"
    },
    "tags": []
   },
   "outputs": [
    {
     "data": {
      "text/plain": [
       "<AxesSubplot:ylabel='Density'>"
      ]
     },
     "execution_count": 24,
     "metadata": {},
     "output_type": "execute_result"
    },
    {
     "data": {
      "image/png": "[encoded data removed]",
      "text/plain": [
       "<Figure size 432x288 with 1 Axes>"
      ]
     },
     "metadata": {
      "needs_background": "light"
     },
     "output_type": "display_data"
    }
   ],
   "source": [
    "## plotting important numerical feature\n",
    "train['age'].plot(kind='kde')"
   ]
  },
  {
   "cell_type": "code",
   "execution_count": 25,
   "id": "04c8c37a",
   "metadata": {
    "execution": {
     "iopub.execute_input": "2024-12-25T14:17:53.203421Z",
     "iopub.status.busy": "2024-12-25T14:17:53.203100Z",
     "iopub.status.idle": "2024-12-25T14:17:53.333538Z",
     "shell.execute_reply": "2024-12-25T14:17:53.332660Z"
    },
    "papermill": {
     "duration": 0.184571,
     "end_time": "2024-12-25T14:17:53.335876",
     "exception": false,
     "start_time": "2024-12-25T14:17:53.151305",
     "status": "completed"
    },
    "tags": []
   },
   "outputs": [
    {
     "data": {
      "text/plain": [
       "<AxesSubplot:ylabel='Density'>"
      ]
     },
     "execution_count": 25,
     "metadata": {},
     "output_type": "execute_result"
    },
    {
     "data": {
      "image/png": "[encoded data removed]",
      "text/plain": [
       "<Figure size 432x288 with 1 Axes>"
      ]
     },
     "metadata": {
      "needs_background": "light"
     },
     "output_type": "display_data"
    }
   ],
   "source": [
    "train['result'].plot(kind='kde')"
   ]
  },
  {
   "cell_type": "markdown",
   "id": "d81a41c8",
   "metadata": {
    "papermill": {
     "duration": 0.050579,
     "end_time": "2024-12-25T14:17:53.438353",
     "exception": false,
     "start_time": "2024-12-25T14:17:53.387774",
     "status": "completed"
    },
    "tags": []
   },
   "source": [
    "**Two columns seems to be almost normal so we will keep them as they are**"
   ]
  },
  {
   "cell_type": "code",
   "execution_count": 26,
   "id": "2cff53eb",
   "metadata": {
    "execution": {
     "iopub.execute_input": "2024-12-25T14:17:53.544746Z",
     "iopub.status.busy": "2024-12-25T14:17:53.544488Z",
     "iopub.status.idle": "2024-12-25T14:17:53.560762Z",
     "shell.execute_reply": "2024-12-25T14:17:53.559901Z"
    },
    "papermill": {
     "duration": 0.071073,
     "end_time": "2024-12-25T14:17:53.562733",
     "exception": false,
     "start_time": "2024-12-25T14:17:53.491660",
     "status": "completed"
    },
    "tags": []
   },
   "outputs": [
    {
     "data": {
      "text/html": [
       "<div>\n",
       "<style scoped>\n",
       "    .dataframe tbody tr th:only-of-type {\n",
       "        vertical-align: middle;\n",
       "    }\n",
       "\n",
       "    .dataframe tbody tr th {\n",
       "        vertical-align: top;\n",
       "    }\n",
       "\n",
       "    .dataframe thead th {\n",
       "        text-align: right;\n",
       "    }\n",
       "</style>\n",
       "<table border=\"1\" class=\"dataframe\">\n",
       "  <thead>\n",
       "    <tr style=\"text-align: right;\">\n",
       "      <th></th>\n",
       "      <th>A1_Score</th>\n",
       "      <th>A2_Score</th>\n",
       "      <th>A3_Score</th>\n",
       "      <th>A4_Score</th>\n",
       "      <th>A5_Score</th>\n",
       "      <th>A6_Score</th>\n",
       "      <th>A7_Score</th>\n",
       "      <th>A8_Score</th>\n",
       "      <th>A9_Score</th>\n",
       "      <th>A10_Score</th>\n",
       "      <th>age</th>\n",
       "      <th>gender</th>\n",
       "      <th>ethnicity</th>\n",
       "      <th>jaundice</th>\n",
       "      <th>austim</th>\n",
       "      <th>contry_of_res</th>\n",
       "      <th>used_app_before</th>\n",
       "      <th>result</th>\n",
       "      <th>relation</th>\n",
       "      <th>Class/ASD</th>\n",
       "    </tr>\n",
       "  </thead>\n",
       "  <tbody>\n",
       "    <tr>\n",
       "      <th>0</th>\n",
       "      <td>1</td>\n",
       "      <td>0</td>\n",
       "      <td>1</td>\n",
       "      <td>0</td>\n",
       "      <td>1</td>\n",
       "      <td>0</td>\n",
       "      <td>1</td>\n",
       "      <td>0</td>\n",
       "      <td>1</td>\n",
       "      <td>1</td>\n",
       "      <td>38.172746</td>\n",
       "      <td>0</td>\n",
       "      <td>5</td>\n",
       "      <td>0</td>\n",
       "      <td>0</td>\n",
       "      <td>7</td>\n",
       "      <td>0</td>\n",
       "      <td>6.351166</td>\n",
       "      <td>4</td>\n",
       "      <td>0</td>\n",
       "    </tr>\n",
       "    <tr>\n",
       "      <th>1</th>\n",
       "      <td>0</td>\n",
       "      <td>0</td>\n",
       "      <td>0</td>\n",
       "      <td>0</td>\n",
       "      <td>0</td>\n",
       "      <td>0</td>\n",
       "      <td>0</td>\n",
       "      <td>0</td>\n",
       "      <td>0</td>\n",
       "      <td>0</td>\n",
       "      <td>47.750517</td>\n",
       "      <td>1</td>\n",
       "      <td>5</td>\n",
       "      <td>0</td>\n",
       "      <td>0</td>\n",
       "      <td>25</td>\n",
       "      <td>0</td>\n",
       "      <td>2.255185</td>\n",
       "      <td>4</td>\n",
       "      <td>0</td>\n",
       "    </tr>\n",
       "    <tr>\n",
       "      <th>2</th>\n",
       "      <td>1</td>\n",
       "      <td>1</td>\n",
       "      <td>1</td>\n",
       "      <td>1</td>\n",
       "      <td>1</td>\n",
       "      <td>1</td>\n",
       "      <td>1</td>\n",
       "      <td>1</td>\n",
       "      <td>1</td>\n",
       "      <td>1</td>\n",
       "      <td>7.380373</td>\n",
       "      <td>1</td>\n",
       "      <td>9</td>\n",
       "      <td>0</td>\n",
       "      <td>1</td>\n",
       "      <td>54</td>\n",
       "      <td>0</td>\n",
       "      <td>14.851484</td>\n",
       "      <td>4</td>\n",
       "      <td>1</td>\n",
       "    </tr>\n",
       "    <tr>\n",
       "      <th>3</th>\n",
       "      <td>0</td>\n",
       "      <td>0</td>\n",
       "      <td>0</td>\n",
       "      <td>0</td>\n",
       "      <td>0</td>\n",
       "      <td>0</td>\n",
       "      <td>0</td>\n",
       "      <td>0</td>\n",
       "      <td>0</td>\n",
       "      <td>0</td>\n",
       "      <td>23.561927</td>\n",
       "      <td>0</td>\n",
       "      <td>5</td>\n",
       "      <td>0</td>\n",
       "      <td>0</td>\n",
       "      <td>54</td>\n",
       "      <td>0</td>\n",
       "      <td>2.276617</td>\n",
       "      <td>4</td>\n",
       "      <td>0</td>\n",
       "    </tr>\n",
       "    <tr>\n",
       "      <th>4</th>\n",
       "      <td>0</td>\n",
       "      <td>0</td>\n",
       "      <td>0</td>\n",
       "      <td>0</td>\n",
       "      <td>0</td>\n",
       "      <td>0</td>\n",
       "      <td>0</td>\n",
       "      <td>0</td>\n",
       "      <td>0</td>\n",
       "      <td>0</td>\n",
       "      <td>43.205790</td>\n",
       "      <td>1</td>\n",
       "      <td>5</td>\n",
       "      <td>0</td>\n",
       "      <td>0</td>\n",
       "      <td>46</td>\n",
       "      <td>0</td>\n",
       "      <td>-4.777286</td>\n",
       "      <td>4</td>\n",
       "      <td>0</td>\n",
       "    </tr>\n",
       "  </tbody>\n",
       "</table>\n",
       "</div>"
      ],
      "text/plain": [
       "   A1_Score  A2_Score  A3_Score  A4_Score  A5_Score  A6_Score  A7_Score  \\\n",
       "0         1         0         1         0         1         0         1   \n",
       "1         0         0         0         0         0         0         0   \n",
       "2         1         1         1         1         1         1         1   \n",
       "3         0         0         0         0         0         0         0   \n",
       "4         0         0         0         0         0         0         0   \n",
       "\n",
       "   A8_Score  A9_Score  A10_Score        age  gender  ethnicity  jaundice  \\\n",
       "0         0         1          1  38.172746       0          5         0   \n",
       "1         0         0          0  47.750517       1          5         0   \n",
       "2         1         1          1   7.380373       1          9         0   \n",
       "3         0         0          0  23.561927       0          5         0   \n",
       "4         0         0          0  43.205790       1          5         0   \n",
       "\n",
       "   austim  contry_of_res  used_app_before     result  relation  Class/ASD  \n",
       "0       0              7                0   6.351166         4          0  \n",
       "1       0             25                0   2.255185         4          0  \n",
       "2       1             54                0  14.851484         4          1  \n",
       "3       0             54                0   2.276617         4          0  \n",
       "4       0             46                0  -4.777286         4          0  "
      ]
     },
     "execution_count": 26,
     "metadata": {},
     "output_type": "execute_result"
    }
   ],
   "source": [
    "## Our training data is ready \n",
    "train.head()"
   ]
  },
  {
   "cell_type": "markdown",
   "id": "052884fd",
   "metadata": {
    "papermill": {
     "duration": 0.050213,
     "end_time": "2024-12-25T14:17:53.662687",
     "exception": false,
     "start_time": "2024-12-25T14:17:53.612474",
     "status": "completed"
    },
    "tags": []
   },
   "source": [
    "## Model Training"
   ]
  },
  {
   "cell_type": "code",
   "execution_count": 27,
   "id": "fbc47732",
   "metadata": {
    "execution": {
     "iopub.execute_input": "2024-12-25T14:17:53.766199Z",
     "iopub.status.busy": "2024-12-25T14:17:53.765389Z",
     "iopub.status.idle": "2024-12-25T14:17:53.770699Z",
     "shell.execute_reply": "2024-12-25T14:17:53.769925Z"
    },
    "papermill": {
     "duration": 0.058729,
     "end_time": "2024-12-25T14:17:53.772335",
     "exception": false,
     "start_time": "2024-12-25T14:17:53.713606",
     "status": "completed"
    },
    "tags": []
   },
   "outputs": [],
   "source": [
    "## Splitting the train data into X_train and y_train\n",
    "X_train = train.drop('Class/ASD', axis=1)\n",
    "y_train = train['Class/ASD']"
   ]
  },
  {
   "cell_type": "code",
   "execution_count": 28,
   "id": "d39b0dc3",
   "metadata": {
    "execution": {
     "iopub.execute_input": "2024-12-25T14:17:53.876359Z",
     "iopub.status.busy": "2024-12-25T14:17:53.876098Z",
     "iopub.status.idle": "2024-12-25T14:17:54.142844Z",
     "shell.execute_reply": "2024-12-25T14:17:54.142113Z"
    },
    "papermill": {
     "duration": 0.322999,
     "end_time": "2024-12-25T14:17:54.145072",
     "exception": false,
     "start_time": "2024-12-25T14:17:53.822073",
     "status": "completed"
    },
    "tags": []
   },
   "outputs": [],
   "source": [
    "## Importing different model classes from the scikit-learn library\n",
    "from sklearn.linear_model import LogisticRegression\n",
    "from sklearn.svm import SVC\n",
    "from sklearn.neighbors import KNeighborsClassifier\n",
    "from sklearn.ensemble import RandomForestClassifier, AdaBoostClassifier, GradientBoostingClassifier, StackingClassifier, VotingClassifier\n",
    "from sklearn.metrics import precision_score, recall_score, f1_score"
   ]
  },
  {
   "cell_type": "code",
   "execution_count": 29,
   "id": "8b4b6db5",
   "metadata": {
    "execution": {
     "iopub.execute_input": "2024-12-25T14:17:54.250505Z",
     "iopub.status.busy": "2024-12-25T14:17:54.250250Z",
     "iopub.status.idle": "2024-12-25T14:17:54.253965Z",
     "shell.execute_reply": "2024-12-25T14:17:54.253213Z"
    },
    "papermill": {
     "duration": 0.057033,
     "end_time": "2024-12-25T14:17:54.255861",
     "exception": false,
     "start_time": "2024-12-25T14:17:54.198828",
     "status": "completed"
    },
    "tags": []
   },
   "outputs": [],
   "source": [
    "## Importing a method for finding the cross validation score on the training data\n",
    "from sklearn.model_selection import cross_val_score"
   ]
  },
  {
   "cell_type": "code",
   "execution_count": 30,
   "id": "6b38ce3d",
   "metadata": {
    "execution": {
     "iopub.execute_input": "2024-12-25T14:17:54.358386Z",
     "iopub.status.busy": "2024-12-25T14:17:54.358107Z",
     "iopub.status.idle": "2024-12-25T14:17:54.363756Z",
     "shell.execute_reply": "2024-12-25T14:17:54.362981Z"
    },
    "papermill": {
     "duration": 0.059233,
     "end_time": "2024-12-25T14:17:54.365647",
     "exception": false,
     "start_time": "2024-12-25T14:17:54.306414",
     "status": "completed"
    },
    "tags": []
   },
   "outputs": [],
   "source": [
    "## Creating a object for the models\n",
    "lr = LogisticRegression(random_state=234, max_iter=3000)\n",
    "svc = SVC(random_state=567,probability=True)\n",
    "knc = KNeighborsClassifier()\n",
    "rfc = RandomForestClassifier(max_depth=3, n_jobs=-1)\n",
    "adab = AdaBoostClassifier(n_estimators=100, random_state=32389)\n",
    "gradb = GradientBoostingClassifier(random_state=34990)\n",
    "pre=precision_score"
   ]
  },
  {
   "cell_type": "code",
   "execution_count": 31,
   "id": "17301d70",
   "metadata": {
    "execution": {
     "iopub.execute_input": "2024-12-25T14:17:54.470334Z",
     "iopub.status.busy": "2024-12-25T14:17:54.469493Z",
     "iopub.status.idle": "2024-12-25T14:18:15.481864Z",
     "shell.execute_reply": "2024-12-25T14:18:15.480610Z"
    },
    "papermill": {
     "duration": 21.06794,
     "end_time": "2024-12-25T14:18:15.484283",
     "exception": false,
     "start_time": "2024-12-25T14:17:54.416343",
     "status": "completed"
    },
    "tags": []
   },
   "outputs": [
    {
     "name": "stdout",
     "output_type": "stream",
     "text": [
      "Cross validation score for the LogisticRegression(max_iter=3000, random_state=234): 0.905\n",
      "\n",
      "Cross validation score for the SVC(probability=True, random_state=567): 0.868\n",
      "\n",
      "Cross validation score for the KNeighborsClassifier(): 0.811\n",
      "\n",
      "Cross validation score for the RandomForestClassifier(max_depth=3, n_jobs=-1): 0.916\n",
      "\n",
      "Cross validation score for the AdaBoostClassifier(n_estimators=100, random_state=32389): 0.876\n",
      "\n",
      "Cross validation score for the GradientBoostingClassifier(random_state=34990): 0.896\n",
      "\n",
      "-----------------------------------------------------------------------------------------------------------------\n",
      "Cross validation score for the LogisticRegression(max_iter=3000, random_state=234): 0.907\n",
      "\n",
      "Cross validation score for the SVC(probability=True, random_state=567): 0.866\n",
      "\n",
      "Cross validation score for the KNeighborsClassifier(): 0.816\n",
      "\n",
      "Cross validation score for the RandomForestClassifier(max_depth=3, n_jobs=-1): 0.914\n",
      "\n",
      "Cross validation score for the AdaBoostClassifier(n_estimators=100, random_state=32389): 0.884\n",
      "\n",
      "Cross validation score for the GradientBoostingClassifier(random_state=34990): 0.894\n",
      "\n",
      "-----------------------------------------------------------------------------------------------------------------\n",
      "Cross validation score for the LogisticRegression(max_iter=3000, random_state=234): 0.908\n",
      "\n",
      "Cross validation score for the SVC(probability=True, random_state=567): 0.867\n",
      "\n",
      "Cross validation score for the KNeighborsClassifier(): 0.802\n",
      "\n",
      "Cross validation score for the RandomForestClassifier(max_depth=3, n_jobs=-1): 0.916\n",
      "\n",
      "Cross validation score for the AdaBoostClassifier(n_estimators=100, random_state=32389): 0.886\n",
      "\n",
      "Cross validation score for the GradientBoostingClassifier(random_state=34990): 0.899\n",
      "\n",
      "-----------------------------------------------------------------------------------------------------------------\n",
      "Cross validation score for the LogisticRegression(max_iter=3000, random_state=234): 0.907\n",
      "\n",
      "Cross validation score for the SVC(probability=True, random_state=567): 0.868\n",
      "\n",
      "Cross validation score for the KNeighborsClassifier(): 0.793\n",
      "\n",
      "Cross validation score for the RandomForestClassifier(max_depth=3, n_jobs=-1): 0.918\n",
      "\n",
      "Cross validation score for the AdaBoostClassifier(n_estimators=100, random_state=32389): 0.864\n",
      "\n",
      "Cross validation score for the GradientBoostingClassifier(random_state=34990): 0.903\n",
      "\n",
      "-----------------------------------------------------------------------------------------------------------------\n",
      "دقة نموذج Random Forest: 0.868\n",
      "F1 Score لنموذج Random Forest: 0.643\n",
      "-----------------------------------------------------------------------------------------------------------------\n",
      "Cross validation Recall score for LogisticRegression(max_iter=3000, random_state=234): 0.683\n",
      "\n",
      "Cross validation Recall score for SVC(probability=True, random_state=567): 0.062\n",
      "\n",
      "Cross validation Recall score for KNeighborsClassifier(): 0.534\n",
      "\n",
      "Cross validation Recall score for RandomForestClassifier(max_depth=3, n_jobs=-1): 0.571\n",
      "\n",
      "Cross validation Recall score for AdaBoostClassifier(n_estimators=100, random_state=32389): 0.534\n",
      "\n",
      "Cross validation Recall score for GradientBoostingClassifier(random_state=34990): 0.614\n",
      "\n",
      "-----------------------------------------------------------------------------------------------------------------\n",
      "Cross validation Precision score for LogisticRegression(max_iter=3000, random_state=234): 0.668\n",
      "\n",
      "Cross validation Precision score for SVC(probability=True, random_state=567): 0.504\n",
      "\n",
      "Cross validation Precision score for KNeighborsClassifier(): 0.612\n",
      "\n",
      "Cross validation Precision score for RandomForestClassifier(max_depth=3, n_jobs=-1): 0.698\n",
      "\n",
      "Cross validation Precision score for AdaBoostClassifier(n_estimators=100, random_state=32389): 0.599\n",
      "\n",
      "Cross validation Precision score for GradientBoostingClassifier(random_state=34990): 0.654\n",
      "\n",
      "-----------------------------------------------------------------------------------------------------------------\n"
     ]
    }
   ],
   "source": [
    "## Finding the cross validation score for every object that was created\n",
    "model_lst = [lr, svc, knc, rfc, adab, gradb]\n",
    "\n",
    "for model in model_lst:\n",
    "    cvs = cross_val_score(model, X_train, y_train, cv=10, scoring = 'roc_auc', n_jobs=-1).mean()\n",
    "    print(f\"Cross validation score for the {model}: {np.round(cvs,3)}\\n\")\n",
    "print(\"-----------------------------------------------------------------------------------------------------------------\")\n",
    "model_lst = [lr, svc, knc, rfc, adab, gradb]\n",
    "\n",
    "for model in model_lst:\n",
    "    cvs = cross_val_score(model, X_train, y_train, cv=7, scoring = 'roc_auc', n_jobs=-1).mean()\n",
    "    print(f\"Cross validation score for the {model}: {np.round(cvs,3)}\\n\")\n",
    "print(\"-----------------------------------------------------------------------------------------------------------------\")\n",
    "model_lst = [lr, svc, knc, rfc, adab, gradb]\n",
    "\n",
    "for model in model_lst:\n",
    "    cvs = cross_val_score(model, X_train, y_train, cv=5, scoring = 'roc_auc', n_jobs=-1).mean()\n",
    "    print(f\"Cross validation score for the {model}: {np.round(cvs,3)}\\n\")\n",
    "print(\"-----------------------------------------------------------------------------------------------------------------\")\n",
    "model_lst = [lr, svc, knc, rfc, adab, gradb]\n",
    "\n",
    "for model in model_lst:\n",
    "    cvs = cross_val_score(model, X_train, y_train, cv=3, scoring = 'roc_auc', n_jobs=-1).mean()\n",
    "    print(f\"Cross validation score for the {model}: {np.round(cvs,3)}\\n\")\n",
    "\n",
    "print(\"-----------------------------------------------------------------------------------------------------------------\")\n",
    "accuracy_scores = cross_val_score(rfc, X_train, y_train, cv=10, scoring='accuracy', n_jobs=-1)\n",
    "print(f\"دقة نموذج Random Forest: {np.round(accuracy_scores.mean(), 3)}\")\n",
    "\n",
    "f1_scores = cross_val_score(rfc, X_train, y_train, cv=10, scoring='f1', n_jobs=-1)\n",
    "print(f\"F1 Score لنموذج Random Forest: {np.round(f1_scores.mean(), 3)}\")\n",
    "print(\"-----------------------------------------------------------------------------------------------------------------\")\n",
    "for model in model_lst:\n",
    "    cvs_recall = cross_val_score(model, X_train, y_train, cv=10, scoring='recall', n_jobs=-1).mean()\n",
    "    print(f\"Cross validation Recall score for {model}: {np.round(cvs_recall, 3)}\\n\")\n",
    "print(\"-----------------------------------------------------------------------------------------------------------------\")\n",
    "for model in model_lst:\n",
    "    cvs_precision = cross_val_score(model, X_train, y_train, cv=10, scoring='precision', n_jobs=-1).mean()\n",
    "    print(f\"Cross validation Precision score for {model}: {np.round(cvs_precision, 3)}\\n\")\n",
    "\n",
    "print(\"-----------------------------------------------------------------------------------------------------------------\")"
   ]
  },
  {
   "cell_type": "code",
   "execution_count": 32,
   "id": "94e991b2",
   "metadata": {
    "execution": {
     "iopub.execute_input": "2024-12-25T14:18:15.606219Z",
     "iopub.status.busy": "2024-12-25T14:18:15.605341Z",
     "iopub.status.idle": "2024-12-25T14:18:16.303917Z",
     "shell.execute_reply": "2024-12-25T14:18:16.302823Z"
    },
    "papermill": {
     "duration": 0.762901,
     "end_time": "2024-12-25T14:18:16.308154",
     "exception": false,
     "start_time": "2024-12-25T14:18:15.545253",
     "status": "completed"
    },
    "tags": []
   },
   "outputs": [
    {
     "name": "stdout",
     "output_type": "stream",
     "text": [
      "Cross validation score for the voting classifier: 0.938\n"
     ]
    }
   ],
   "source": [
    "from sklearn.metrics import roc_auc_score ,precision_score, recall_score, f1_score\n",
    "import random\n",
    "\n",
    "vc = VotingClassifier(estimators=\n",
    "                     [('lr',lr), ('svc', svc), ('rfc', rfc), ('knc', knc)], voting='soft')\n",
    "vc.fit(X_train, y_train)\n",
    "vc_scores = vc.predict_proba(X_train)[:,1]\n",
    "vc_roc_auc_score = np.round(roc_auc_score(y_train, vc_scores),3)\n",
    "print(f\"Cross validation score for the voting classifier: {vc_roc_auc_score}\")"
   ]
  },
  {
   "cell_type": "code",
   "execution_count": 33,
   "id": "3e2d4125",
   "metadata": {
    "execution": {
     "iopub.execute_input": "2024-12-25T14:18:16.490381Z",
     "iopub.status.busy": "2024-12-25T14:18:16.490128Z",
     "iopub.status.idle": "2024-12-25T14:18:17.524027Z",
     "shell.execute_reply": "2024-12-25T14:18:17.523187Z"
    },
    "papermill": {
     "duration": 1.097163,
     "end_time": "2024-12-25T14:18:17.526250",
     "exception": false,
     "start_time": "2024-12-25T14:18:16.429087",
     "status": "completed"
    },
    "tags": []
   },
   "outputs": [
    {
     "name": "stdout",
     "output_type": "stream",
     "text": [
      "Cross validation score for the voting classifier: 0.965\n"
     ]
    }
   ],
   "source": [
    "## Trying out another voting classifier\n",
    "vc2 = VotingClassifier(estimators=\n",
    "                     [('lr',lr),('rfc', rfc), ('adab',adab), ('gradb', gradb)], voting='soft')\n",
    "vc2.fit(X_train, y_train)\n",
    "vc2_scores = vc2.predict_proba(X_train)[:,1]\n",
    "vc2_roc_auc_score = np.round(roc_auc_score(y_train, vc2_scores),3)\n",
    "print(f\"Cross validation score for the voting classifier: {vc2_roc_auc_score}\")"
   ]
  },
  {
   "cell_type": "code",
   "execution_count": 34,
   "id": "3c63526c",
   "metadata": {
    "execution": {
     "iopub.execute_input": "2024-12-25T14:18:17.649399Z",
     "iopub.status.busy": "2024-12-25T14:18:17.648778Z",
     "iopub.status.idle": "2024-12-25T14:18:26.988529Z",
     "shell.execute_reply": "2024-12-25T14:18:26.987694Z"
    },
    "papermill": {
     "duration": 9.402611,
     "end_time": "2024-12-25T14:18:26.990802",
     "exception": false,
     "start_time": "2024-12-25T14:18:17.588191",
     "status": "completed"
    },
    "tags": []
   },
   "outputs": [
    {
     "name": "stdout",
     "output_type": "stream",
     "text": [
      "Cross validation score for the stacking classifier: 0.952\n"
     ]
    }
   ],
   "source": [
    "## Trying out the stacking classifier\n",
    "estimators = [('vc',vc), ('vc2', vc2)]\n",
    "\n",
    "sc = StackingClassifier(estimators=estimators, final_estimator=rfc)\n",
    "sc.fit(X_train, y_train)\n",
    "sc_score = sc.predict_proba(X_train)[:,1]\n",
    "sc_roc_auc_score = np.round(roc_auc_score(y_train, sc_score), 3)\n",
    "print(f\"Cross validation score for the stacking classifier: {sc_roc_auc_score}\")"
   ]
  },
  {
   "cell_type": "code",
   "execution_count": 35,
   "id": "823a5063",
   "metadata": {
    "execution": {
     "iopub.execute_input": "2024-12-25T14:18:27.110706Z",
     "iopub.status.busy": "2024-12-25T14:18:27.110445Z",
     "iopub.status.idle": "2024-12-25T14:18:27.260146Z",
     "shell.execute_reply": "2024-12-25T14:18:27.258956Z"
    },
    "papermill": {
     "duration": 0.211971,
     "end_time": "2024-12-25T14:18:27.261932",
     "exception": true,
     "start_time": "2024-12-25T14:18:27.049961",
     "status": "failed"
    },
    "tags": []
   },
   "outputs": [
    {
     "ename": "KeyError",
     "evalue": "\"['re'] not found in axis\"",
     "output_type": "error",
     "traceback": [
      "\u001b[0;31m---------------------------------------------------------------------------\u001b[0m",
      "\u001b[0;31mKeyError\u001b[0m                                  Traceback (most recent call last)",
      "\u001b[0;32m/tmp/ipykernel_19/213350708.py\u001b[0m in \u001b[0;36m<module>\u001b[0;34m\u001b[0m\n\u001b[0;32m----> 1\u001b[0;31m \u001b[0mtest_predictions\u001b[0m \u001b[0;34m=\u001b[0m \u001b[0mvc2\u001b[0m\u001b[0;34m.\u001b[0m\u001b[0mpredict\u001b[0m\u001b[0;34m(\u001b[0m\u001b[0mtest\u001b[0m\u001b[0;34m.\u001b[0m\u001b[0mdrop\u001b[0m\u001b[0;34m(\u001b[0m\u001b[0;34m're'\u001b[0m\u001b[0;34m,\u001b[0m \u001b[0maxis\u001b[0m\u001b[0;34m=\u001b[0m\u001b[0;36m1\u001b[0m\u001b[0;34m)\u001b[0m\u001b[0;34m)\u001b[0m\u001b[0;34m\u001b[0m\u001b[0;34m\u001b[0m\u001b[0m\n\u001b[0m\u001b[1;32m      2\u001b[0m \u001b[0;34m\u001b[0m\u001b[0m\n\u001b[1;32m      3\u001b[0m \u001b[0mtrue_values\u001b[0m \u001b[0;34m=\u001b[0m \u001b[0mtest\u001b[0m\u001b[0;34m[\u001b[0m\u001b[0;34m're'\u001b[0m\u001b[0;34m]\u001b[0m\u001b[0;34m\u001b[0m\u001b[0;34m\u001b[0m\u001b[0m\n\u001b[1;32m      4\u001b[0m \u001b[0;34m\u001b[0m\u001b[0m\n\u001b[1;32m      5\u001b[0m \u001b[0mrecall\u001b[0m \u001b[0;34m=\u001b[0m \u001b[0mrecall_score\u001b[0m\u001b[0;34m(\u001b[0m\u001b[0mtrue_values\u001b[0m\u001b[0;34m,\u001b[0m \u001b[0mtest_predictions\u001b[0m\u001b[0;34m,\u001b[0m \u001b[0maverage\u001b[0m\u001b[0;34m=\u001b[0m\u001b[0;34m'binary'\u001b[0m\u001b[0;34m)\u001b[0m\u001b[0;34m\u001b[0m\u001b[0;34m\u001b[0m\u001b[0m\n",
      "\u001b[0;32m/opt/conda/lib/python3.7/site-packages/pandas/util/_decorators.py\u001b[0m in \u001b[0;36mwrapper\u001b[0;34m(*args, **kwargs)\u001b[0m\n\u001b[1;32m    309\u001b[0m                     \u001b[0mstacklevel\u001b[0m\u001b[0;34m=\u001b[0m\u001b[0mstacklevel\u001b[0m\u001b[0;34m,\u001b[0m\u001b[0;34m\u001b[0m\u001b[0;34m\u001b[0m\u001b[0m\n\u001b[1;32m    310\u001b[0m                 )\n\u001b[0;32m--> 311\u001b[0;31m             \u001b[0;32mreturn\u001b[0m \u001b[0mfunc\u001b[0m\u001b[0;34m(\u001b[0m\u001b[0;34m*\u001b[0m\u001b[0margs\u001b[0m\u001b[0;34m,\u001b[0m \u001b[0;34m**\u001b[0m\u001b[0mkwargs\u001b[0m\u001b[0;34m)\u001b[0m\u001b[0;34m\u001b[0m\u001b[0;34m\u001b[0m\u001b[0m\n\u001b[0m\u001b[1;32m    312\u001b[0m \u001b[0;34m\u001b[0m\u001b[0m\n\u001b[1;32m    313\u001b[0m         \u001b[0;32mreturn\u001b[0m \u001b[0mwrapper\u001b[0m\u001b[0;34m\u001b[0m\u001b[0;34m\u001b[0m\u001b[0m\n",
      "\u001b[0;32m/opt/conda/lib/python3.7/site-packages/pandas/core/frame.py\u001b[0m in \u001b[0;36mdrop\u001b[0;34m(self, labels, axis, index, columns, level, inplace, errors)\u001b[0m\n\u001b[1;32m   4911\u001b[0m             \u001b[0mlevel\u001b[0m\u001b[0;34m=\u001b[0m\u001b[0mlevel\u001b[0m\u001b[0;34m,\u001b[0m\u001b[0;34m\u001b[0m\u001b[0;34m\u001b[0m\u001b[0m\n\u001b[1;32m   4912\u001b[0m             \u001b[0minplace\u001b[0m\u001b[0;34m=\u001b[0m\u001b[0minplace\u001b[0m\u001b[0;34m,\u001b[0m\u001b[0;34m\u001b[0m\u001b[0;34m\u001b[0m\u001b[0m\n\u001b[0;32m-> 4913\u001b[0;31m             \u001b[0merrors\u001b[0m\u001b[0;34m=\u001b[0m\u001b[0merrors\u001b[0m\u001b[0;34m,\u001b[0m\u001b[0;34m\u001b[0m\u001b[0;34m\u001b[0m\u001b[0m\n\u001b[0m\u001b[1;32m   4914\u001b[0m         )\n\u001b[1;32m   4915\u001b[0m \u001b[0;34m\u001b[0m\u001b[0m\n",
      "\u001b[0;32m/opt/conda/lib/python3.7/site-packages/pandas/core/generic.py\u001b[0m in \u001b[0;36mdrop\u001b[0;34m(self, labels, axis, index, columns, level, inplace, errors)\u001b[0m\n\u001b[1;32m   4148\u001b[0m         \u001b[0;32mfor\u001b[0m \u001b[0maxis\u001b[0m\u001b[0;34m,\u001b[0m \u001b[0mlabels\u001b[0m \u001b[0;32min\u001b[0m \u001b[0maxes\u001b[0m\u001b[0;34m.\u001b[0m\u001b[0mitems\u001b[0m\u001b[0;34m(\u001b[0m\u001b[0;34m)\u001b[0m\u001b[0;34m:\u001b[0m\u001b[0;34m\u001b[0m\u001b[0;34m\u001b[0m\u001b[0m\n\u001b[1;32m   4149\u001b[0m             \u001b[0;32mif\u001b[0m \u001b[0mlabels\u001b[0m \u001b[0;32mis\u001b[0m \u001b[0;32mnot\u001b[0m \u001b[0;32mNone\u001b[0m\u001b[0;34m:\u001b[0m\u001b[0;34m\u001b[0m\u001b[0;34m\u001b[0m\u001b[0m\n\u001b[0;32m-> 4150\u001b[0;31m                 \u001b[0mobj\u001b[0m \u001b[0;34m=\u001b[0m \u001b[0mobj\u001b[0m\u001b[0;34m.\u001b[0m\u001b[0m_drop_axis\u001b[0m\u001b[0;34m(\u001b[0m\u001b[0mlabels\u001b[0m\u001b[0;34m,\u001b[0m \u001b[0maxis\u001b[0m\u001b[0;34m,\u001b[0m \u001b[0mlevel\u001b[0m\u001b[0;34m=\u001b[0m\u001b[0mlevel\u001b[0m\u001b[0;34m,\u001b[0m \u001b[0merrors\u001b[0m\u001b[0;34m=\u001b[0m\u001b[0merrors\u001b[0m\u001b[0;34m)\u001b[0m\u001b[0;34m\u001b[0m\u001b[0;34m\u001b[0m\u001b[0m\n\u001b[0m\u001b[1;32m   4151\u001b[0m \u001b[0;34m\u001b[0m\u001b[0m\n\u001b[1;32m   4152\u001b[0m         \u001b[0;32mif\u001b[0m \u001b[0minplace\u001b[0m\u001b[0;34m:\u001b[0m\u001b[0;34m\u001b[0m\u001b[0;34m\u001b[0m\u001b[0m\n",
      "\u001b[0;32m/opt/conda/lib/python3.7/site-packages/pandas/core/generic.py\u001b[0m in \u001b[0;36m_drop_axis\u001b[0;34m(self, labels, axis, level, errors)\u001b[0m\n\u001b[1;32m   4183\u001b[0m                 \u001b[0mnew_axis\u001b[0m \u001b[0;34m=\u001b[0m \u001b[0maxis\u001b[0m\u001b[0;34m.\u001b[0m\u001b[0mdrop\u001b[0m\u001b[0;34m(\u001b[0m\u001b[0mlabels\u001b[0m\u001b[0;34m,\u001b[0m \u001b[0mlevel\u001b[0m\u001b[0;34m=\u001b[0m\u001b[0mlevel\u001b[0m\u001b[0;34m,\u001b[0m \u001b[0merrors\u001b[0m\u001b[0;34m=\u001b[0m\u001b[0merrors\u001b[0m\u001b[0;34m)\u001b[0m\u001b[0;34m\u001b[0m\u001b[0;34m\u001b[0m\u001b[0m\n\u001b[1;32m   4184\u001b[0m             \u001b[0;32melse\u001b[0m\u001b[0;34m:\u001b[0m\u001b[0;34m\u001b[0m\u001b[0;34m\u001b[0m\u001b[0m\n\u001b[0;32m-> 4185\u001b[0;31m                 \u001b[0mnew_axis\u001b[0m \u001b[0;34m=\u001b[0m \u001b[0maxis\u001b[0m\u001b[0;34m.\u001b[0m\u001b[0mdrop\u001b[0m\u001b[0;34m(\u001b[0m\u001b[0mlabels\u001b[0m\u001b[0;34m,\u001b[0m \u001b[0merrors\u001b[0m\u001b[0;34m=\u001b[0m\u001b[0merrors\u001b[0m\u001b[0;34m)\u001b[0m\u001b[0;34m\u001b[0m\u001b[0;34m\u001b[0m\u001b[0m\n\u001b[0m\u001b[1;32m   4186\u001b[0m             \u001b[0mresult\u001b[0m \u001b[0;34m=\u001b[0m \u001b[0mself\u001b[0m\u001b[0;34m.\u001b[0m\u001b[0mreindex\u001b[0m\u001b[0;34m(\u001b[0m\u001b[0;34m**\u001b[0m\u001b[0;34m{\u001b[0m\u001b[0maxis_name\u001b[0m\u001b[0;34m:\u001b[0m \u001b[0mnew_axis\u001b[0m\u001b[0;34m}\u001b[0m\u001b[0;34m)\u001b[0m\u001b[0;34m\u001b[0m\u001b[0;34m\u001b[0m\u001b[0m\n\u001b[1;32m   4187\u001b[0m \u001b[0;34m\u001b[0m\u001b[0m\n",
      "\u001b[0;32m/opt/conda/lib/python3.7/site-packages/pandas/core/indexes/base.py\u001b[0m in \u001b[0;36mdrop\u001b[0;34m(self, labels, errors)\u001b[0m\n\u001b[1;32m   6015\u001b[0m         \u001b[0;32mif\u001b[0m \u001b[0mmask\u001b[0m\u001b[0;34m.\u001b[0m\u001b[0many\u001b[0m\u001b[0;34m(\u001b[0m\u001b[0;34m)\u001b[0m\u001b[0;34m:\u001b[0m\u001b[0;34m\u001b[0m\u001b[0;34m\u001b[0m\u001b[0m\n\u001b[1;32m   6016\u001b[0m             \u001b[0;32mif\u001b[0m \u001b[0merrors\u001b[0m \u001b[0;34m!=\u001b[0m \u001b[0;34m\"ignore\"\u001b[0m\u001b[0;34m:\u001b[0m\u001b[0;34m\u001b[0m\u001b[0;34m\u001b[0m\u001b[0m\n\u001b[0;32m-> 6017\u001b[0;31m                 \u001b[0;32mraise\u001b[0m \u001b[0mKeyError\u001b[0m\u001b[0;34m(\u001b[0m\u001b[0;34mf\"{labels[mask]} not found in axis\"\u001b[0m\u001b[0;34m)\u001b[0m\u001b[0;34m\u001b[0m\u001b[0;34m\u001b[0m\u001b[0m\n\u001b[0m\u001b[1;32m   6018\u001b[0m             \u001b[0mindexer\u001b[0m \u001b[0;34m=\u001b[0m \u001b[0mindexer\u001b[0m\u001b[0;34m[\u001b[0m\u001b[0;34m~\u001b[0m\u001b[0mmask\u001b[0m\u001b[0;34m]\u001b[0m\u001b[0;34m\u001b[0m\u001b[0;34m\u001b[0m\u001b[0m\n\u001b[1;32m   6019\u001b[0m         \u001b[0;32mreturn\u001b[0m \u001b[0mself\u001b[0m\u001b[0;34m.\u001b[0m\u001b[0mdelete\u001b[0m\u001b[0;34m(\u001b[0m\u001b[0mindexer\u001b[0m\u001b[0;34m)\u001b[0m\u001b[0;34m\u001b[0m\u001b[0;34m\u001b[0m\u001b[0m\n",
      "\u001b[0;31mKeyError\u001b[0m: \"['re'] not found in axis\""
     ]
    }
   ],
   "source": [
    "test_predictions = vc2.predict(test.drop('re', axis=1))\n",
    "\n",
    "true_values = test['re']  \n",
    "\n",
    "recall = recall_score(true_values, test_predictions, average='binary') "
   ]
  },
  {
   "cell_type": "markdown",
   "id": "94e47e7e",
   "metadata": {
    "papermill": {
     "duration": null,
     "end_time": null,
     "exception": null,
     "start_time": null,
     "status": "pending"
    },
    "tags": []
   },
   "source": [
    "**Voting classifier number 2 seems to be the best model out of all the ones that we trained on the training data**"
   ]
  },
  {
   "cell_type": "markdown",
   "id": "c1f586ec",
   "metadata": {
    "papermill": {
     "duration": null,
     "end_time": null,
     "exception": null,
     "start_time": null,
     "status": "pending"
    },
    "tags": []
   },
   "source": [
    "### PREPROCESSING THE TEST DATA"
   ]
  },
  {
   "cell_type": "code",
   "execution_count": null,
   "id": "10c187f3",
   "metadata": {
    "execution": {
     "iopub.status.busy": "2024-12-25T14:12:30.345024Z",
     "iopub.status.idle": "2024-12-25T14:12:30.345531Z",
     "shell.execute_reply": "2024-12-25T14:12:30.345294Z",
     "shell.execute_reply.started": "2024-12-25T14:12:30.345267Z"
    },
    "papermill": {
     "duration": null,
     "end_time": null,
     "exception": null,
     "start_time": null,
     "status": "pending"
    },
    "tags": []
   },
   "outputs": [],
   "source": [
    "test.head()"
   ]
  },
  {
   "cell_type": "code",
   "execution_count": null,
   "id": "b400d00b",
   "metadata": {
    "execution": {
     "iopub.status.busy": "2024-12-25T14:12:30.346724Z",
     "iopub.status.idle": "2024-12-25T14:12:30.347183Z",
     "shell.execute_reply": "2024-12-25T14:12:30.346970Z",
     "shell.execute_reply.started": "2024-12-25T14:12:30.346945Z"
    },
    "papermill": {
     "duration": null,
     "end_time": null,
     "exception": null,
     "start_time": null,
     "status": "pending"
    },
    "tags": []
   },
   "outputs": [],
   "source": [
    "## Finding the numerical and categorical columns\n",
    "cat_cols_test = [feature for feature in test.columns if test[feature].dtypes == 'O']\n",
    "num_cols_test = [feature for feature in test.columns if feature not in cat_cols_test]"
   ]
  },
  {
   "cell_type": "code",
   "execution_count": null,
   "id": "c4d010e4",
   "metadata": {
    "execution": {
     "iopub.status.busy": "2024-12-25T14:12:30.351137Z",
     "iopub.status.idle": "2024-12-25T14:12:30.351538Z",
     "shell.execute_reply": "2024-12-25T14:12:30.351367Z",
     "shell.execute_reply.started": "2024-12-25T14:12:30.351340Z"
    },
    "papermill": {
     "duration": null,
     "end_time": null,
     "exception": null,
     "start_time": null,
     "status": "pending"
    },
    "tags": []
   },
   "outputs": [],
   "source": [
    "print(f\"Numerical columns: {num_cols_test}\\n\")\n",
    "print(f\"Categorical columns: {cat_cols_test}\")"
   ]
  },
  {
   "cell_type": "code",
   "execution_count": null,
   "id": "a527c135",
   "metadata": {
    "execution": {
     "iopub.status.busy": "2024-12-25T14:12:30.353355Z",
     "iopub.status.idle": "2024-12-25T14:12:30.353939Z",
     "shell.execute_reply": "2024-12-25T14:12:30.353706Z",
     "shell.execute_reply.started": "2024-12-25T14:12:30.353644Z"
    },
    "papermill": {
     "duration": null,
     "end_time": null,
     "exception": null,
     "start_time": null,
     "status": "pending"
    },
    "tags": []
   },
   "outputs": [],
   "source": [
    "## Finding the unique values in each of the categorical feature columns\n",
    "for feature in cat_cols_test:\n",
    "    print(f\"{feature}:\")\n",
    "    print(f\"Number of unique values in the {feature}: {test[feature].nunique()}\")\n",
    "    print(f\"Unique values: {test[feature].unique()}\")\n",
    "    print('\\n')"
   ]
  },
  {
   "cell_type": "code",
   "execution_count": null,
   "id": "e06ff372",
   "metadata": {
    "execution": {
     "iopub.status.busy": "2024-12-25T14:12:30.355543Z",
     "iopub.status.idle": "2024-12-25T14:12:30.356020Z",
     "shell.execute_reply": "2024-12-25T14:12:30.355797Z",
     "shell.execute_reply.started": "2024-12-25T14:12:30.355769Z"
    },
    "papermill": {
     "duration": null,
     "end_time": null,
     "exception": null,
     "start_time": null,
     "status": "pending"
    },
    "tags": []
   },
   "outputs": [],
   "source": [
    "## Some of the columns present in the dataset have a ? instead of a record\n",
    "## Columns -- ethnicity and relation\n",
    "test['ethnicity'] = np.where(test['ethnicity'] == '?', 'Others', test['ethnicity'])\n",
    "test['relation'] = np.where(test['relation'] == '?', 'Others', test['relation'])"
   ]
  },
  {
   "cell_type": "code",
   "execution_count": null,
   "id": "d8708ede",
   "metadata": {
    "execution": {
     "iopub.status.busy": "2024-12-25T14:12:30.357754Z",
     "iopub.status.idle": "2024-12-25T14:12:30.358096Z",
     "shell.execute_reply": "2024-12-25T14:12:30.357946Z",
     "shell.execute_reply.started": "2024-12-25T14:12:30.357922Z"
    },
    "papermill": {
     "duration": null,
     "end_time": null,
     "exception": null,
     "start_time": null,
     "status": "pending"
    },
    "tags": []
   },
   "outputs": [],
   "source": [
    "for feature in cat_cols_test:\n",
    "    print(f\"{feature}:\")\n",
    "    print(f\"Number of unique values in the {feature}: {test[feature].nunique()}\")\n",
    "    print(f\"Unique values: {test[feature].unique()}\")\n",
    "    print('\\n')"
   ]
  },
  {
   "cell_type": "code",
   "execution_count": null,
   "id": "6d654c7f",
   "metadata": {
    "execution": {
     "iopub.status.busy": "2024-12-25T14:12:30.359348Z",
     "iopub.status.idle": "2024-12-25T14:12:30.359812Z",
     "shell.execute_reply": "2024-12-25T14:12:30.359615Z",
     "shell.execute_reply.started": "2024-12-25T14:12:30.359588Z"
    },
    "papermill": {
     "duration": null,
     "end_time": null,
     "exception": null,
     "start_time": null,
     "status": "pending"
    },
    "tags": []
   },
   "outputs": [],
   "source": [
    "## Checking for the missing values in the dataset\n",
    "test.isnull().sum()"
   ]
  },
  {
   "cell_type": "markdown",
   "id": "c74bc92f",
   "metadata": {
    "papermill": {
     "duration": null,
     "end_time": null,
     "exception": null,
     "start_time": null,
     "status": "pending"
    },
    "tags": []
   },
   "source": [
    "**No missing values in the test data also**"
   ]
  },
  {
   "cell_type": "code",
   "execution_count": null,
   "id": "2f69e0e7",
   "metadata": {
    "execution": {
     "iopub.status.busy": "2024-12-25T14:12:30.361186Z",
     "iopub.status.idle": "2024-12-25T14:12:30.361540Z",
     "shell.execute_reply": "2024-12-25T14:12:30.361374Z",
     "shell.execute_reply.started": "2024-12-25T14:12:30.361349Z"
    },
    "papermill": {
     "duration": null,
     "end_time": null,
     "exception": null,
     "start_time": null,
     "status": "pending"
    },
    "tags": []
   },
   "outputs": [],
   "source": [
    "## Removing useless columns from the dataset\n",
    "## Removing ID column since it doesn't contribute to the prediction of the autism as we can tell by our logic\n",
    "## Removing the age_desc columns since the column has only one value. In other words, the column has zero variance\n",
    "test.drop(['ID','age_desc'],axis=1,inplace=True)"
   ]
  },
  {
   "cell_type": "code",
   "execution_count": null,
   "id": "a681c5ad",
   "metadata": {
    "execution": {
     "iopub.status.busy": "2024-12-25T14:12:30.363218Z",
     "iopub.status.idle": "2024-12-25T14:12:30.363596Z",
     "shell.execute_reply": "2024-12-25T14:12:30.363423Z",
     "shell.execute_reply.started": "2024-12-25T14:12:30.363396Z"
    },
    "papermill": {
     "duration": null,
     "end_time": null,
     "exception": null,
     "start_time": null,
     "status": "pending"
    },
    "tags": []
   },
   "outputs": [],
   "source": [
    "test.columns"
   ]
  },
  {
   "cell_type": "code",
   "execution_count": null,
   "id": "b79c7787",
   "metadata": {
    "execution": {
     "iopub.status.busy": "2024-12-25T14:12:30.366046Z",
     "iopub.status.idle": "2024-12-25T14:12:30.366420Z",
     "shell.execute_reply": "2024-12-25T14:12:30.366256Z",
     "shell.execute_reply.started": "2024-12-25T14:12:30.366228Z"
    },
    "papermill": {
     "duration": null,
     "end_time": null,
     "exception": null,
     "start_time": null,
     "status": "pending"
    },
    "tags": []
   },
   "outputs": [],
   "source": [
    "num_cols_test.remove('ID')"
   ]
  },
  {
   "cell_type": "code",
   "execution_count": null,
   "id": "b870a34e",
   "metadata": {
    "execution": {
     "iopub.status.busy": "2024-12-25T14:12:30.367944Z",
     "iopub.status.idle": "2024-12-25T14:12:30.368385Z",
     "shell.execute_reply": "2024-12-25T14:12:30.368202Z",
     "shell.execute_reply.started": "2024-12-25T14:12:30.368172Z"
    },
    "papermill": {
     "duration": null,
     "end_time": null,
     "exception": null,
     "start_time": null,
     "status": "pending"
    },
    "tags": []
   },
   "outputs": [],
   "source": [
    "cat_cols_test.remove('age_desc')"
   ]
  },
  {
   "cell_type": "code",
   "execution_count": null,
   "id": "85ce0ba6",
   "metadata": {
    "execution": {
     "iopub.status.busy": "2024-12-25T14:12:30.369850Z",
     "iopub.status.idle": "2024-12-25T14:12:30.370203Z",
     "shell.execute_reply": "2024-12-25T14:12:30.370046Z",
     "shell.execute_reply.started": "2024-12-25T14:12:30.370021Z"
    },
    "papermill": {
     "duration": null,
     "end_time": null,
     "exception": null,
     "start_time": null,
     "status": "pending"
    },
    "tags": []
   },
   "outputs": [],
   "source": [
    "print(f\"Numerical columns: {num_cols_test}\\n\")\n",
    "print(f\"Categorical columns: {cat_cols_test}\")"
   ]
  },
  {
   "cell_type": "code",
   "execution_count": null,
   "id": "cfb0fbb3",
   "metadata": {
    "execution": {
     "iopub.status.busy": "2024-12-25T14:12:30.371914Z",
     "iopub.status.idle": "2024-12-25T14:12:30.372249Z",
     "shell.execute_reply": "2024-12-25T14:12:30.372098Z",
     "shell.execute_reply.started": "2024-12-25T14:12:30.372075Z"
    },
    "papermill": {
     "duration": null,
     "end_time": null,
     "exception": null,
     "start_time": null,
     "status": "pending"
    },
    "tags": []
   },
   "outputs": [],
   "source": [
    "## Encoding the categorical columns\n",
    "test[cat_cols_test] = oe.transform(test[cat_cols_test])"
   ]
  },
  {
   "cell_type": "code",
   "execution_count": null,
   "id": "eab2fbcd",
   "metadata": {
    "execution": {
     "iopub.status.busy": "2024-12-25T14:12:30.373310Z",
     "iopub.status.idle": "2024-12-25T14:12:30.373637Z",
     "shell.execute_reply": "2024-12-25T14:12:30.373489Z",
     "shell.execute_reply.started": "2024-12-25T14:12:30.373464Z"
    },
    "papermill": {
     "duration": null,
     "end_time": null,
     "exception": null,
     "start_time": null,
     "status": "pending"
    },
    "tags": []
   },
   "outputs": [],
   "source": [
    "for feature in cat_cols_test:\n",
    "    print(f\"{feature}:\")\n",
    "    print(f\"Number of unique values in the {feature}: {test[feature].nunique()}\")\n",
    "    print(f\"Unique values: {test[feature].unique()}\")\n",
    "    print('\\n')"
   ]
  },
  {
   "cell_type": "markdown",
   "id": "50b29834",
   "metadata": {
    "papermill": {
     "duration": null,
     "end_time": null,
     "exception": null,
     "start_time": null,
     "status": "pending"
    },
    "tags": []
   },
   "source": [
    "### Making predictions for the test data using the trained voting classifier number 2"
   ]
  },
  {
   "cell_type": "code",
   "execution_count": null,
   "id": "90f15f19",
   "metadata": {
    "execution": {
     "iopub.status.busy": "2024-12-25T14:12:30.375506Z",
     "iopub.status.idle": "2024-12-25T14:12:30.375985Z",
     "shell.execute_reply": "2024-12-25T14:12:30.375730Z",
     "shell.execute_reply.started": "2024-12-25T14:12:30.375704Z"
    },
    "papermill": {
     "duration": null,
     "end_time": null,
     "exception": null,
     "start_time": null,
     "status": "pending"
    },
    "tags": []
   },
   "outputs": [],
   "source": [
    "final_predictions = vc2.predict(test)"
   ]
  },
  {
   "cell_type": "code",
   "execution_count": null,
   "id": "45580e72",
   "metadata": {
    "execution": {
     "iopub.status.busy": "2024-12-25T14:12:30.377272Z",
     "iopub.status.idle": "2024-12-25T14:12:30.377623Z",
     "shell.execute_reply": "2024-12-25T14:12:30.377450Z",
     "shell.execute_reply.started": "2024-12-25T14:12:30.377426Z"
    },
    "papermill": {
     "duration": null,
     "end_time": null,
     "exception": null,
     "start_time": null,
     "status": "pending"
    },
    "tags": []
   },
   "outputs": [],
   "source": [
    "final_predictions"
   ]
  },
  {
   "cell_type": "code",
   "execution_count": null,
   "id": "b12b6adb",
   "metadata": {
    "execution": {
     "iopub.status.busy": "2024-12-25T14:12:30.379915Z",
     "iopub.status.idle": "2024-12-25T14:12:30.380288Z",
     "shell.execute_reply": "2024-12-25T14:12:30.380127Z",
     "shell.execute_reply.started": "2024-12-25T14:12:30.380099Z"
    },
    "papermill": {
     "duration": null,
     "end_time": null,
     "exception": null,
     "start_time": null,
     "status": "pending"
    },
    "tags": []
   },
   "outputs": [],
   "source": [
    "len(final_predictions)"
   ]
  },
  {
   "cell_type": "code",
   "execution_count": null,
   "id": "08ca75dd",
   "metadata": {
    "papermill": {
     "duration": null,
     "end_time": null,
     "exception": null,
     "start_time": null,
     "status": "pending"
    },
    "tags": []
   },
   "outputs": [],
   "source": []
  }
 ],
 "metadata": {
  "kaggle": {
   "accelerator": "none",
   "dataSources": [
    {
     "datasetId": 2193688,
     "sourceId": 3664502,
     "sourceType": "datasetVersion"
    }
   ],
   "dockerImageVersionId": 30191,
   "isGpuEnabled": false,
   "isInternetEnabled": true,
   "language": "python",
   "sourceType": "notebook"
  },
  "kernelspec": {
   "display_name": "Python 3",
   "language": "python",
   "name": "python3"
  },
  "language_info": {
   "codemirror_mode": {
    "name": "ipython",
    "version": 3
   },
   "file_extension": ".py",
   "mimetype": "text/x-python",
   "name": "python",
   "nbconvert_exporter": "python",
   "pygments_lexer": "ipython3",
   "version": "3.7.12"
  },
  "papermill": {
   "default_parameters": {},
   "duration": 50.325295,
   "end_time": "2024-12-25T14:18:29.941354",
   "environment_variables": {},
   "exception": true,
   "input_path": "__notebook__.ipynb",
   "output_path": "__notebook__.ipynb",
   "parameters": {},
   "start_time": "2024-12-25T14:17:39.616059",
   "version": "2.3.4"
  }
 },
 "nbformat": 4,
 "nbformat_minor": 5
}
